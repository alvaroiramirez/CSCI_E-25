{
  "cells": [
    {
      "cell_type": "markdown",
      "metadata": {
        "id": "6WyCuk_RvWn1"
      },
      "source": [
        "# CSCI E-25     \n",
        "\n",
        "## Introduction to Deep Neural Networks\n",
        "\n",
        "## Steve Elston\n",
        "\n",
        "## 1.0 Overview\n",
        "\n",
        "This lesson introduces you to the basics of neural network architecture in the form of deep forward networks. This architecture is the quintessential deep neural net architecture. In this lesson you will master the following:\n",
        "\n",
        "- Why is deep learning important and how it relates to representation, learning and inference.\n",
        "- How a basic Preceptron works.\n",
        "- How to apply different types of loss functions. \n",
        "- Understand why nonlinear activation is important and why rectified linear units are a good choice.\n",
        "- How back propagation works, and how you apply the chain rule of calculus to determine gradient. \n",
        "- Understand the architectural trade-off between depth and width in deep networks.\n",
        "- Know how and why you must apply regularization to deep neural networks.  "
      ]
    },
    {
      "cell_type": "markdown",
      "metadata": {
        "id": "MjyYBpl1vWn2"
      },
      "source": [
        "### 1.1 Why is deep learning important?\n",
        "\n",
        "Deep learning methods are a form of **artificial intelligence (AI)** or **machine intelligence**. More specifically, deep learning algorithms are a type of **machine learning**. \n",
        "\n",
        "What properties does machine intelligence require? There have been many answers to this question over the history of computing. In this case, we will take a practical view, sometimes known as **weak AI**. There are three key properties an intelligent machine must have. Deep learning algorithms are one of a few classes of algorithms that can do the following, essential to machine intelligence:\n",
        "\n",
        "1. **Representation:** An intelligent machine must be able to represent a model of the world it interacts with in a general manner. Representation is key to intelligence. Without a good representation the best learning and inference algorithms will struggle. Whereas, good representation can greatly facilitate learning and inference. In conventional machine learning the representation is model and a set of features. The representation is limited to what the features can provide directly. Deep learning algorithms, on the other hand, learn learn complex representations from raw features. This behavior allows deep learning algorithms to approximate complex relationships. Further, the representations learned often generalize well, up to a point. \n",
        "2. **Learning:** As you likely guessed from the very name, deep learning algorithms learn from data. Whereas, conventional machine learning is focused on inference,deep learning algorithms learn both inference and representations. As a result, deep leaning algorithms are more complex and therefore harder to train than conventional machine learning algorithms.  \n",
        "3. **Inference:** Any machine intelligence algorithm must be able to perform inference. The inference is the result produced given new input data. To be useful, the inferences produced by a machine intelligence algorithm must **generalize** beyond the cases used for learning or training. Good generalization requires both good representations and learning which can deal with the complexity of diverse situations. Some deep learning algorithms can approach human levels of performance in inference tasks such as recognizing objects in images or understanding natural speech. \n",
        "\n",
        "The figure below shows a highly abstracted view of machine intelligence, showing the relationship between representation, learning and inference. In simple terms, the representation is learned and then used to make inferences. Errors in the inferences can be used to improve the learning of the representation.   \n",
        "\n",
        "<img src=\"https://github.com/alvaroiramirez/CSCI_E-25/blob/master/Labs/img/MachineIntelligence.JPG?raw=1\" alt=\"Drawing\" style=\"width:600px; height:300px\"/>\n",
        "\n",
        "<center>Schematic for creating machine intelligence</center>\n",
        "\n",
        "**That's it!** The entire rest of this course will focus on just these three points: representation, learning and inference!"
      ]
    },
    {
      "cell_type": "markdown",
      "metadata": {
        "id": "tJIfqC2jvWn3"
      },
      "source": [
        "### 1.2 Installing Keras\n",
        "\n",
        "This notebook will provides a first look at using the Keras package to define, train and evaluate deep learning models with Keras. The Keras package is a wrapper on TensorFlow, intended to abstract and simplify the definition, training and execution of TensorFlow deep learning models. You can find extensive well-written documentation for Keras [here](https://keras.io/). The book [Deep Learning with Python](https://www.manning.com/books/deep-learning-with-python-second-edition) by François Chollet, the creator of Keras, provides in-depth examples and discussion on a wide range of deep learning applications.      \n",
        "\n",
        "By the end of this lesson you will be able to work with basic feedforward architecture multi-layer neural nets. Feedforward networks are one of a class of basic models called **sequential models** which are easy to define with Keras. Some basic regularization is introduced. Additional regularization methods are covered in a subsequent lesson. \n",
        "\n",
        "Keras is part of the base package, as of the release of TensorFlow 2. Before proceeding make sure you have TensorFlow 2 installed in your environment. [Follow these instructions.](https://www.tensorflow.org/install).    \n",
        "\n",
        "****\n",
        "**Note:** As an alternative to working with a local installation, you may choose to use the [Google Colabratory](https://colab.research.google.com/?utm_source=scs-index). The Colabrotory virtual environment includes Anaconda, TensorFlow and Keras. However, the use of shared resources can result in slow execution.    \n",
        "****\n",
        "\n",
        "****\n",
        "**Note:** This notebook was constructed and tested using Anaconda 3 with Python 3. It is assumed that the standard Anaconda stack has been installed.\n",
        "****"
      ]
    },
    {
      "cell_type": "code",
      "execution_count": 1,
      "metadata": {
        "id": "3yu5Ov2ivWn3"
      },
      "outputs": [],
      "source": [
        "from keras.datasets import mnist\n",
        "import tensorflow as tf\n",
        "import keras.utils.np_utils as ku\n",
        "import keras.models as models\n",
        "import keras.layers as layers\n",
        "from keras import regularizers\n",
        "import numpy as np\n",
        "from math import exp\n",
        "import matplotlib.pyplot as plt\n",
        "import seaborn as sns\n",
        "\n",
        "%matplotlib inline"
      ]
    },
    {
      "cell_type": "markdown",
      "metadata": {
        "id": "l4leQBF-vWn3"
      },
      "source": [
        "## 2.0 Forward propagation: The representation problem\n",
        "\n",
        "To create useful neutral network we need a **representation** that has two important properties.   \n",
        "\n",
        "First, there needs to be a way to represent complex functions of the input. Without this property, nothing is gained, since there are numerous machine learning algorithms that work with simple representations. We will spend the rest of this section exploring this problem.   \n",
        "\n",
        "Second, the representation needs to be learnable. Quite obviously, no machine intelligence representation is useful if there is not a practical algorithm to learn it. We will take up this problem in another section. "
      ]
    },
    {
      "cell_type": "markdown",
      "metadata": {
        "id": "JfmMqF9-vWn4"
      },
      "source": [
        "### 2.1 Linear networks\n",
        "\n",
        "Let's start with the simplest possible network. It has inputs, and an output. The output is a **afine transformation** of the input values. We say this network performs an afine transformation since there is a bias term $b$. \n",
        "\n",
        "\n",
        "<img src=\"https://github.com/alvaroiramirez/CSCI_E-25/blob/master/Labs/img/LinearNetwork.JPG?raw=1\" alt=\"Drawing\" style=\"width:400px; height:250px\"/>\n",
        "\n",
        "<center>**Figure 2.1**\n",
        "**A simple afine network**</center>\n",
        "\n",
        "This output $y$ of this network is just:\n",
        "\n",
        "$$y = f(x) = \\sum_i w_i \\cdot x_i + b$$\n",
        "\n",
        "This network performs linear regression. Being able to perform only afine transformations, it can't do anything else. \n",
        "\n",
        "This representation is certainly learnable. However, it does not gain us anything over familiar linear regression methods. "
      ]
    },
    {
      "cell_type": "markdown",
      "metadata": {
        "id": "4LA4AQFMvWn4"
      },
      "source": [
        "### 2.2 The preceptron"
      ]
    },
    {
      "cell_type": "markdown",
      "metadata": {
        "id": "coNE6SLQvWn4"
      },
      "source": [
        "To get started, let's have a look at a simple **preceptron** model. The perceptron was proposed by Rosenblatt (1962). He built on the earlier attempts at a neural network models by McCulloch and Pitts (1943) and Heeb (1949). The perceptron adds **nonlinear activation** to the afine network. \n",
        "\n",
        "\n",
        "<img src=\"https://github.com/alvaroiramirez/CSCI_E-25/blob/master/Labs/img/Preceptron.JPG?raw=1\" alt=\"Drawing\" style=\"width:350px; height:250px\"/>\n",
        "<center>Figure 2.2 Schematic of perceptron with nonlinear activation</center>\n",
        "\n",
        "The output $y$ of the perceptron is given by the following:\n",
        "\n",
        "$$y = f(x) = \\sigma \\Big( \\sum_i w_i \\cdot x_i + b \\Big)$$\n",
        "\n",
        "The output of the network is now nonlinear, give the **activation function** $\\sigma(x)$. \n",
        "\n",
        "But, the preceptron is nothing more than a logistic regression classifier. The fact that the preceptron could only solve linearly separable problems was pointed out by Minsky and Papert (1969). The failure of the preceptron to learn an **exclusive or (XOR)** function is well known. See for example, Section 6.1 in GBC. \n",
        "\n",
        "Again, this representation is certainly learnable. However, as before, it does not gain us anything over well known logistic regression models."
      ]
    },
    {
      "cell_type": "markdown",
      "metadata": {
        "id": "biLb1S-fvWn4"
      },
      "source": [
        "### 2.3 Forward networks - We're gonna need a better representation!\n",
        "\n",
        "The problem with the  perceptron is one of representations. There is no way that this simple network can represent anything but a linearly separable function. To represent more complex functions, we need a more complex network. In more technical terms we need a network with greater **model capacity**. \n",
        "\n",
        "What we need is a network with layers of **hidden nodes**. The figure below shows a simple example of a neural network with one **hidden layer** with two nodes. Since every node (including inputs) is connected to every other node we call this architecture a **fully connected neural network**.\n",
        "\n",
        "\n",
        "<img src=\"https://github.com/alvaroiramirez/CSCI_E-25/blob/master/Labs/img/Hidden.JPG?raw=1\" alt=\"Drawing\" style=\"width:600px; height:350px\"/>\n",
        "<center>**Figure 2.3  \n",
        "Fully connected neural network with single hidden layer**</center>\n",
        "\n",
        "Let's walk through some aspects of these diagrams. \n",
        "\n",
        "1. The neural network is divided into three layers. The input layer, the hidden layer and the output layer. \n",
        "2. The values in the input layer are multiplied by a weight matrix, $W^1$.\n",
        "3. The nodes in the hidden layer sum their inputs and add a bias term, $b^1$. \n",
        "4. The outputs of the hidden layer nodes are multiplied by a weight vector, $W^2$.\n",
        "5. The output layer sums the inputs and adds another bias term, $b^2$."
      ]
    },
    {
      "cell_type": "markdown",
      "metadata": {
        "id": "UvJj54lMvWn4"
      },
      "source": [
        "### 2.4 Neural network architectures - Finding representations\n",
        "\n",
        "The representations achievable by neural network with just a single hidden layer  are quite powerful. In fact, Cybenko (1989) showed that such a network with an infinite number of hidden units using sigmoidal activation can approximate any arbitrary function. Hornik (1991) generalized this to apply to any activation function. We call this theorem the **universal approximation theorem**.  \n",
        "\n",
        "A universal approximation theorem may see like a really exciting development; especially if you are a machine intelligence nerd. However, one must be circumspect when viewing such a result. A representation with an infinite number of nodes cannot be learned in any practical sense. Still it is comforting to know that, at least in principle, a representation can be learned for arbitrarily complex problems. \n",
        "\n",
        "While infinitely wide networks with a single layer are unrealistic, we are not limited to one dimension. In fact, depth is typically more effective at creating complex representations rather than width in neural networks. Depth is measured by the count of hidden layers stacked one on top of the other in the network. Hence, the term deep neural networks. \n",
        "\n",
        "The Figure 2.4 below shows the results of an empirical study by Goodfellow, Shlens and Szegedy (2014) of accuracy of the network vs depth. Notice that accuracy increases rapidly with depth until about 8 layers, after which the effect is reduced. \n",
        "\n",
        "\n",
        "<img src=\"https://github.com/alvaroiramirez/CSCI_E-25/blob/master/Labs/img/Accuracy-Layers.JPG?raw=1\" alt=\"Drawing\" style=\"width:600px; height:350px\"/>\n",
        "<center>Figure 2.4 Empirical results of accuracy vs. number of layers  \n",
        "Diagram from Goodfellow et. al. 2014</center>\n",
        "\n",
        "Another view of the empirical study by Goodfellow et. al. is shown in Figure 2.5 below. In this case accuracy verses number of model parameters is compared for three different network architectures. The deeper network (11 layers) makes more  efficient use of the parameters in terms of improved accuracy. The number of parameters in a layer is approximately the total number of parameters divided by the number of layers. Notice that for the particular case tested convolutional neural networks are more efficient than fully-connected networks. We will discuss convolutional neural networks in a subsequent lesson. \n",
        "\n",
        "Of particular interest is the fact that the fully-connected network and the shallow convolutional neural network appear to be over-fitting as the test accuracy actually decreases as the number of parameters increases. We will discuss the significant problems of over-fitting in neural networks in a subsequent lesson. \n",
        "\n",
        "\n",
        "<img src=\"https://github.com/alvaroiramirez/CSCI_E-25/blob/master/Labs/img/Accuracy-Parameters.JPG?raw=1\" alt=\"Drawing\" style=\"width:600px; height:350px\"/>\n",
        "<center>**Figure 2.5 Empirical results of accuracy for different network architectures**  \n",
        "Diagram from Goodfellow et. al. 2014</center>\n",
        "\n",
        "**Summary:** Deep networks tend to produce better models, with less tendency to over-fit, for a given level of complexity. "
      ]
    },
    {
      "cell_type": "markdown",
      "metadata": {
        "id": "_d28wTNVvWn4"
      },
      "source": [
        "### 2.5 Computational graphs\n",
        "\n",
        "There is another way to look at neural nets, computational graphs. A computational graph breaks down the steps of a complex algorithm into steps. \n",
        "\n",
        "Computational graphs provide a way to organize complex computations in an efficient manner. Widely used computational frameworks such as Tensor Flow, CNTK, and Torch all use computational graphs. Organizing computations in a graph allows these platform to minimize memory transfers. In simple terms, the platform can look ahead in the graph and organize data and computational results so as to minimize memory transfers. As a result, such platforms can be significantly faster than, say, Python Numpy. Systems like Numpy require memory transfer before each operation, which typically take more time than the actual computation. \n",
        "\n",
        "The diagram below decomposes the single hidden layer neural network discussed in the previous section into a computational graph. \n",
        "\n",
        "\n",
        "<img src=\"https://github.com/alvaroiramirez/CSCI_E-25/blob/master/Labs/img/CompGraph1.JPG?raw=1\" alt=\"Drawing\" style=\"width:600px; height:300px\"/>\n",
        "<center>**Figure 2.6  \n",
        "Computational graph for fully connected neural network of Figure 2.3** </center>\n",
        "\n",
        "Let's walk though this graph, step by step.\n",
        "\n",
        "1. The $nX2$ weight tensor, $W^1$, is multiplied by the 1-dimensional input tensor $x \\in\\ R^n$, giving  the result $U^1 \\in\\ R^2$.\n",
        "2. The 1-dimensional bias tensor $b^1 \\in\\ R^2$ is added to $U^1$, giving $U^2 \\in\\ R^2$. \n",
        "2. The activation function $\\sigma_h(x)$ is applied to $U^2$, producing $U^3 \\in\\ R^2$\n",
        "3. The dot product between the weight tensor, $W^2 \\in\\ R^2$ and $U^3$ is computed giving $U^4 \\in\\ R^1$. \n",
        "4. The bias, $b^2 \\in\\ R^1$ is added to $U^4$ giving $U^5 \\in\\ R^1$.\n",
        "5. The output activation function $\\sigma_o(x)$ is applied to $U^4$ giving the output $Y \\in\\ R^1$.\n",
        "\n",
        "As you can see, the computational graph provides a complete specification for the single hidden layer neural network. "
      ]
    },
    {
      "cell_type": "markdown",
      "metadata": {
        "id": "NvglA8NBvWn4"
      },
      "source": [
        "### 2.6 Activation functions\n",
        "\n",
        "Without a nonlinear activation function, a neural net is just an afine transformation. Afine transformations limit representation to only linearly separable functions. To create more general representations **nonlinear activation functions** are required. \n",
        "\n",
        "In present practice, four types of activation functions are generally used for fully connected networks. \n",
        "\n",
        "1. **Linear** activation is used for the output layer of regression neural networks. \n",
        "2. The **rectilinear** activation function is used for most hidden units. The rectilinear activation function is often referred to as **ReLU**.\n",
        "3. A **leaky rectilinear** activation acts like a ReLU function for positive inputs, but has a small negative bias or leakage for negative input values. The leaky ReLU activation function can improve training for some deep neural networks. \n",
        "3. The **logistic** or **sigmoid** activation function is used for binary classifiers.\n",
        "4. The **softmax** activation function is used for multi-class classifiers. \n",
        "\n",
        "Rectilinear functions are typically used as the activation function for hidden units in neural networks. The rectilinear function is defined at:\n",
        "\n",
        "$$f(x) = max(0, x)$$\n",
        "\n",
        "The rectilinear function is linear for positive responses and zero for responses less than 0.0. Notice that the derivatives of the rectilinear function are not continuous. While this might seem to be a problem, in practice, even gradient-based optimization functions work well with this activation function. \n",
        "\n",
        "The rectilinear function is plotted in the cell below:"
      ]
    },
    {
      "cell_type": "code",
      "execution_count": 2,
      "metadata": {
        "colab": {
          "base_uri": "https://localhost:8080/",
          "height": 404
        },
        "id": "Hk5XeYQovWn4",
        "outputId": "34592d8f-1527-4e0b-ac1b-e85e203beaf8"
      },
      "outputs": [
        {
          "output_type": "display_data",
          "data": {
            "text/plain": [
              "<Figure size 576x432 with 1 Axes>"
            ],
            "image/png": "[encoded data removed]"
          },
          "metadata": {
            "needs_background": "light"
          }
        }
      ],
      "source": [
        "def reclu(x): return(max(0,x))\n",
        "\n",
        "def plot_figs(x,y,title, figsize = (8, 6)):\n",
        "    plt.figure(figsize=figsize).gca() # define axis\n",
        "    sns.set_style(\"darkgrid\")\n",
        "    plt.plot(x, y)\n",
        "    plt.ylim((-0.1,1.1))\n",
        "    plt.title(title)\n",
        "    plt.xlabel('X')\n",
        "    plt.ylabel('Y')\n",
        "    \n",
        "x = np.linspace(-1.0, 1.0, 200)\n",
        "y = [reclu(y) for y in x]\n",
        "plot_figs(x,y,'The Rectilinear Function')    "
      ]
    },
    {
      "cell_type": "markdown",
      "metadata": {
        "id": "XfTSgB8JvWn4"
      },
      "source": [
        "Another widely used activation function is the **logistic** or **sigmoid**. The sigmoid is used as the activation for the output layer of a binary classifier. The general sigmoid function can be written as:\n",
        "\n",
        "$$\\sigma(x) = \\frac{L}{1 + e^{-k(x_0-x)}}\\\\\n",
        "where\\\\\n",
        "L = max\\ value\\\\\n",
        "k = slope\\\\\n",
        "x_0 = sigmoid\\ midpoint$$\n",
        "\n",
        "With $L=1$, $k=1$, and $x_0 = 0$, the logistic function becomes: \n",
        "\n",
        "$$\\sigma(x) = \\frac{1}{1 + e^{-x}} = \\frac{e^x}{1+e^x}$$\n",
        "\n",
        "The sigmoid function can asymptotically approach $0$ or $1$, but will never reach these extreme values. However, because of the rapid decrease in the derivative away from $0$ the sigmoid can **saturate** when using gradient-based training. For this reason, the sigmoid is typically not used for hidden layers in neural networks.   \n",
        "\n",
        "When used in a the binary classifier a threshold is set to determine if the result is $0$ or $1$. The threshold can be adjusted to bias the result as desired. \n",
        "\n",
        "The code in the cell below plots the sigmoid function. "
      ]
    },
    {
      "cell_type": "code",
      "execution_count": 3,
      "metadata": {
        "scrolled": false,
        "colab": {
          "base_uri": "https://localhost:8080/",
          "height": 404
        },
        "id": "9gY8dOrgvWn4",
        "outputId": "abbc4f2b-2b1a-4478-e255-a7cc6f8affc2"
      },
      "outputs": [
        {
          "output_type": "display_data",
          "data": {
            "text/plain": [
              "<Figure size 576x432 with 1 Axes>"
            ],
            "image/png": "[encoded data removed]"
          },
          "metadata": {}
        }
      ],
      "source": [
        "def sigmoid(x): return exp(x)/(1 + exp(x))\n",
        "\n",
        "x = np.linspace(-8.0, 8.0, 200)\n",
        "y = [sigmoid(y) for y in x]\n",
        "plot_figs(x,y,'The Logistic Function') #, figsize = (5,3))    "
      ]
    },
    {
      "cell_type": "markdown",
      "metadata": {
        "id": "nSeZ2KDmvWn5"
      },
      "source": [
        "The **softmax** function or **normalized exponential function** is used for the output activation function of a multi-class classifier. The softmax function is the multinomial generalization of the sigmoid or logistic function. The probability of each class $j$ is written as: \n",
        "\n",
        "$$\\sigma(z_j) = \\frac{e^{z_j}}{\\sum_{k=1}^K e^{z_k}}$$\n",
        "\n",
        "The normalization $\\sum_{k=1}^K e^{z_k}$ ensures the sum of probabilities for all classes add to $1.0$. The class selected by the classifier is the class with the largest value of $\\sigma(z_j)$."
      ]
    },
    {
      "cell_type": "markdown",
      "metadata": {
        "id": "t_mxbbwRvWn5"
      },
      "source": [
        "### 2.7 Computational example\n",
        "\n",
        "Now that we have gone though some basic theory for feed-forward networks, it's time to try a simple example. You will construct a fully connected network to compute this simple function:\n",
        "\n",
        "$$y = x_1 - x_2$$\n",
        "\n",
        "****\n",
        "**Comment.** You likely have noticed that this function is linear and can be computed easily without a neural network. Of course, that is not the point. We use a simple function to make the results easy to understand. \n",
        "****\n",
        "\n"
      ]
    },
    {
      "cell_type": "markdown",
      "metadata": {
        "id": "-HPn5w6vvWn5"
      },
      "source": [
        "> **Exercise 5-1:** You will create and test a simple neural network implemented using matrix multiplication with Numpy. The architecture of the neural network is similar to the one shown in Figure 2.3, with 2 input units, 2 hidden units and 1 output unit. There are a total of 6 weights in two tensors. The neural network for this example does not require any bias terms. \n",
        "> 1. As a first step, create test data for 3 possibilities; $x_1 > x_2$, $x_1 = x_2$, and $x_1 <x_2$, and with positive and negative values, or $x = [(2,1), (1,1), (1,2), (0,0), (2,-1), (-1,-1), (-2,1), (-1,-2)]$ as the input tuples. \n",
        "> 2. Directly compute and print the evaluation of the function, $y = x_1 - x_2$, for each tuple.  \n",
        "\n",
        "> **Note:** The network you are asked to construct is simple and all weights must be in the set $\\{-1, 1 \\}$. You can take advantage of the symmetry of the function. You must approximate to determine these weights by inspection. If you wish, you will find it easy to compute the partial derivatives of the function to be approximated. However, this is not necessary if you carefully inspect the network and consider the responses required. \n"
      ]
    },
    {
      "cell_type": "code",
      "execution_count": 4,
      "metadata": {
        "colab": {
          "base_uri": "https://localhost:8080/",
          "height": 0
        },
        "id": "xEWN6R-AvWn5",
        "outputId": "03dd0f87-5d58-4e54-ab15-3b4e0e68787e"
      },
      "outputs": [
        {
          "output_type": "stream",
          "name": "stdout",
          "text": [
            "1\n",
            "0\n",
            "-1\n",
            "0\n",
            "3\n",
            "0\n",
            "-3\n",
            "1\n"
          ]
        }
      ],
      "source": [
        "## Your code goes here\n",
        "x = [(2,1), (1,1), (1,2), (0,0), (2,-1), (-1,-1), (-2,1), (-1,-2)]\n",
        "for x_in in x:\n",
        "    print(x_in[0] - x_in[1])"
      ]
    },
    {
      "cell_type": "markdown",
      "metadata": {
        "id": "GmLb5yebvWn5"
      },
      "source": [
        "> 3. Now that you have the test data you can move to the next step. Determine the values of the $2 \\times 2$ weight tensor between the input layer and the hidden layer (input tensor) and the $2 \\times 1$ weight tensor between the hidden and output layer (output tensor). In the code cells below create as Numpy arrays and print these tensors. *Hint:* Keep in mind that the input tensor must be symmetric, with correct signs on the $\\{-1,1\\}$ weights. Likewise, the output tensor $\\{-1,1\\}$ weights must have the opposite signs.  "
      ]
    },
    {
      "cell_type": "code",
      "execution_count": 5,
      "metadata": {
        "colab": {
          "base_uri": "https://localhost:8080/",
          "height": 0
        },
        "id": "jFacsp-tvWn5",
        "outputId": "b6b51f57-412b-4aec-b432-aa29da66fde1"
      },
      "outputs": [
        {
          "output_type": "stream",
          "name": "stdout",
          "text": [
            "[[ 1. -1.]\n",
            " [-1.  1.]]\n"
          ]
        }
      ],
      "source": [
        "## Your code goes here\n",
        "W_1 = np.array([[1.0, -1.0], [-1.0, 1.0]])\n",
        "print(W_1)"
      ]
    },
    {
      "cell_type": "code",
      "execution_count": 6,
      "metadata": {
        "colab": {
          "base_uri": "https://localhost:8080/",
          "height": 0
        },
        "id": "OesD7bbuvWn5",
        "outputId": "a38cac89-e6f4-48e2-99e7-c1715cd5c2bb"
      },
      "outputs": [
        {
          "output_type": "stream",
          "name": "stdout",
          "text": [
            "[ 1 -1]\n"
          ]
        }
      ],
      "source": [
        "## Your code goes here\n",
        "W_2 = np.array([1, -1])\n",
        "print(W_2)"
      ]
    },
    {
      "cell_type": "markdown",
      "metadata": {
        "id": "QGFXb8invWn5"
      },
      "source": [
        "> 4. Now, it is time to compute the results and check them. To create the computational process follow the graph in Figure 2.6, but ignoring the bias terms, $b^1$ and $b^2$. \n",
        "> Create a function, `hidden`, to compute the output of the hidden layer using the formulation with **rectalinear activation**, $\\delta()$:   \n",
        "> $$h = \\delta(W^1 \\cdot x)$$\n",
        "> Create a second function ,`output`, to compute the vector product of the weight vector with the output vector of the hidden layer using a **linear activation**:    \n",
        "> $$o = W^2 \\cdot h$$\n",
        "> 5. Execute the two functions while iterating over the input tuples and verify the output is correct. If not, reconsider the values of your weight tensors.   "
      ]
    },
    {
      "cell_type": "code",
      "execution_count": 7,
      "metadata": {
        "colab": {
          "base_uri": "https://localhost:8080/",
          "height": 0
        },
        "id": "5TcOWS7jvWn5",
        "outputId": "8f24c739-afe2-402e-bd47-865de514a8cd"
      },
      "outputs": [
        {
          "output_type": "stream",
          "name": "stdout",
          "text": [
            "1.0\n",
            "0\n",
            "-1.0\n",
            "0\n",
            "3.0\n",
            "0\n",
            "-3.0\n",
            "1.0\n"
          ]
        }
      ],
      "source": [
        "## Your code goes here\n",
        "def hidden(x, W):\n",
        "    \"\"\"Computes the output of the hidden layer\"\"\"\n",
        "    h = np.dot(W, x) # product of weights and input vector\n",
        "    return np.array([reclu(x) for x in h]) # apply activation function and return\n",
        "\n",
        "def output(h, W):\n",
        "    \"\"\"Computes the result for the hidden layer\"\"\"\n",
        "    return np.dot(W, h) # dot product of weight vector and input vector\n",
        "    \n",
        "## Run the test cases and check the results     \n",
        "for y in x:\n",
        "        h = hidden(y, W_1)\n",
        "        print(output(h, W_2))"
      ]
    },
    {
      "cell_type": "markdown",
      "metadata": {
        "id": "bT6kqam4vWn5"
      },
      "source": [
        "> If your results agree with the function created above, congratulations! Your first fully connected neural network passed all the tests!  \n",
        "> **End of exercise**.\n",
        "\n",
        "Notice that even a network to compute a simple function requires 6 weights. You can see that for more complex functions any practical algorithm must learn a large number of weights. The limitations of Numpy would quickly become evident for large scale problems involving hundreds of millions of weights. \n",
        "\n",
        "****\n",
        "**Note:** If you are having difficulty following the Numpy code in the above example, you might want to look at [Scott Shell's Numpy Tutorial](https://engineering.ucsb.edu/~shell/che210d/numpy.pdf)\n",
        "****"
      ]
    },
    {
      "cell_type": "markdown",
      "metadata": {
        "id": "HgIQZb3cvWn5"
      },
      "source": [
        "> **Exercise 5-2:** You will now construct and test a neural network implementing an [exclusive or function, the XOR](https://en.wikipedia.org/wiki/Exclusive_or). The XOR function outputs a 1 if either input is 1 and the other 0, and a 0 otherwise. The truth table for the XOR function is:   \n",
        "\n",
        "$$\\begin{bmatrix}\n",
        "in_1 & in_2 &  out\\\\         \n",
        "0 & 0 & 0\\\\   \n",
        "1 & 0 & 1\\\\    \n",
        "0 & 1 & 1\\\\    \n",
        "1 & 1 & 0\n",
        "\\end{bmatrix}$$     \n",
        "\n",
        "\n",
        "> You can use the `hidden` and `output` functions you created for the previous exercise with new weight tensors. Make sure you try all 4 possible test cases.  "
      ]
    },
    {
      "cell_type": "code",
      "execution_count": 8,
      "metadata": {
        "colab": {
          "base_uri": "https://localhost:8080/",
          "height": 0
        },
        "id": "R3tFBM-lvWn5",
        "outputId": "e530ed0e-bfcc-4046-bd8d-7d1c8357f8cc"
      },
      "outputs": [
        {
          "output_type": "stream",
          "name": "stdout",
          "text": [
            "0\n",
            "1.0\n",
            "1.0\n",
            "0\n"
          ]
        }
      ],
      "source": [
        "x = [(0,0), (1,0), (0,1), (1,1)]\n",
        "\n",
        "W_1 = np.array([[1.0, -1.0], [-1.0, 1.0]])\n",
        "\n",
        "W_2 = np.array([1, 1])\n",
        "\n",
        "## Run the test cases and check the results     \n",
        "for y in x:\n",
        "        h = hidden(y, W_1)\n",
        "        print(output(h, W_2))"
      ]
    },
    {
      "cell_type": "markdown",
      "metadata": {
        "id": "Jhe12x1svWn5"
      },
      "source": [
        "> If your output agrees with the truth table, congratulations! You have solved the XOR problem using nonlinear activation.       \n",
        "> **End of exercise.**"
      ]
    },
    {
      "cell_type": "markdown",
      "metadata": {
        "id": "Y89Key16vWn5"
      },
      "source": [
        "## 3.0 Learning in neural networks: Backpropagation\n",
        "\n",
        "Now that we have a promising representation, we need to determine if it is trainable. The answer is not only yes we can, but that we can do so in a computationally efficient manner, using a cleaver algorithm known as **backpropagation**. \n",
        "\n",
        "The backpropagation algorithm was developed independently multiple times. The earliest work on this algorithm was by Kelly (1960) in the context of control theory and Bryson (1961) in the context of dynamic programming. Rumelhart, Hinton and Williams (1984) demonstrated empirically that backpropagation can be used to train neural networks. Their paper marks the beginning of the modern history of neural networks, and set off the first wave of enthusiasm. \n",
        "\n",
        "The backpropagation algorithm requires several components. First, we need a **loss function** to measure how well our representation matches the function we are trying to learn. Second, we need a way to propagate changes in the representation through the complex network. For this we will use the **chain rule of calculus** to compute **gradients** of the representation. In the general case, this process requires using automatic differentiation methods. \n",
        "\n",
        "The point of backpropagration is to learn the optimal weight for the neural network. The algorithm proceeds iteratively through a series of small steps. Once we have the gradient of the loss function we can update the tensor of weights.\n",
        "\n",
        "$$W_{t+1} = W_t + \\alpha \\nabla_{W} J(W_t) $$  \n",
        "where  \n",
        "$W_t = $ the tensor of weights or model parameters at step $t$.   \n",
        "$\\alpha\\ = $ step size or learning rate.  \n",
        "$J(W) = $ loss function given the weights.  \n",
        "$\\nabla_{W} J(W) = $ gradient of $J$ with respect to the weights $W$.  \n",
        "\n",
        "It should be evident that the back propagation algorithm is a form of gradient decent. The weights are updated in small steps following the gradient of $J(W)$ down hill. \n",
        "\n",
        "Finally, we need a way evaluate the performance of the model. Without evaluation metrics we have no way to compare the performance of a given model, or compare the performance of several models. \n",
        "\n",
        "In the next sections, we will address each of loss functions, gradient computation and performance measurement. "
      ]
    },
    {
      "cell_type": "markdown",
      "metadata": {
        "id": "LXwjlM7tvWn5"
      },
      "source": [
        "### 3.1 Loss functions\n",
        "\n",
        "To train a neural network we must have a **loss function**, also known as a **cost function**. In simple terms, the loss function measures the fit of a model to the training data. The lower the loss, the better the fit. \n",
        "\n",
        "To train deep learning models **cross entropy** is often used as a loss function. This is an information theoretic measure of model fit. We can understand cross entropy as follows. \n",
        "\n",
        "First define **Shannon entropy** as:\n",
        "\n",
        "$$\\mathbb{H}(I) = E[I(X)] = E[-ln_b(P(X))] = - \\sum_{i=1}^n P(x_i) ln_b(P(x_i)$$  \n",
        "Where:  \n",
        "$E[X] = $ the expectation of $X$.  \n",
        "$I(X) = $ the information content of $X$.   \n",
        "$P(X) = $ probability of $X$.  \n",
        "$b = $ base of the logarithm.    \n",
        "\n",
        "This rather abstract formula gives us a way to compute the expected information content of a set of values $X$. The more likely (higher probability) of $X$ the less informative it is. \n",
        "\n",
        "To create a loss function from the definition of Shannon entropy we start with the **Kullback-Leibler divergence (KL divergence)** or **relative entropy**. The KL divergence is an information theoretic measure of the difference between two distributions, $P(X)$ and $Q(X)$.\n",
        "\n",
        "$$\\mathbb{D}_{KL}(P \\parallel Q) = - \\sum_{i=1}^n p(x_i)\\ ln_b \\frac{p(x_i)}{q(x_i)}$$\n",
        "\n",
        "Ideally, in the case of training a machine learning model we want a distribution $Q(X)$, which is identical to the actual data distribution $P(X)$. \n",
        "\n",
        "But, you may say, if we could know $P(X)$ why compute $Q(X)$ at all? Fortunately, we do not have to. We can rewrite the KL divergence as:\n",
        "\n",
        "$$\\mathbb{D}_{KL}(P \\parallel Q) = \\sum_{i=1}^n p(x_i)\\ ln_b p(x_i) - \\sum_{i=1}^n p(x_i)\\ ln_b q(x_i)$$\n",
        "\n",
        "Since $P(X)$ is fixed and we wish to find $Q(X)$ when we train our model, we can minimize the term on the right, which is the **cross entropy** defined as:\n",
        "\n",
        "$$\\mathbb{H}(P,Q) = - \\sum_{i=1}^n p(x_i)\\ ln_b q(x_i)$$\n",
        "\n",
        "From the formulation of KL divergence above you can see the following.\n",
        "\n",
        "$$\\mathbb{D}_{KL}(P \\parallel Q) = \\mathbb{H}(P) + \\mathbb{H}(P,Q)\\\\\n",
        "\\mathbb{D}_{KL}(P \\parallel Q) = Entropy(P) + Cross\\ Entropy(P,Q)$$\n",
        "\n",
        "Thus, we can minimize divergence by minimizing cross entropy. This idea is both intuitive and computationally attractive. The closer the estimated distribution $q(X)$ is to the distribution of the true underling process $p(X)$, the lower the cross entropy and the lower the KL divergence. \n",
        "\n",
        "In general we will not know $p(X)$. In fact, if we did, why would we need to solve a training problem? So, we can use the following approximation.\n",
        "\n",
        "$$\\mathbb{H}(P,Q) = - \\frac{1}{N} \\sum_{i=1}^n ln_b q(x_i)$$\n",
        "\n",
        "You may notice, that this approximation, using the average log likelihood, is equivalent to a maximum likelihood estimator (MLE). "
      ]
    },
    {
      "cell_type": "markdown",
      "metadata": {
        "id": "8udoOAmEvWn5"
      },
      "source": [
        "Let's look at a specific case of a model with Gaussian likelihood. What is the cross entropy? We can start by thinking about the definition of likelihood. \n",
        "\n",
        "$$p(data|model) = p(data|f(\\theta)) = p(x_i|f(\\hat{\\mu},\\sigma))= \\frac{1}{2 \\pi \\sigma^2} e^{\\frac{-(x_i - \\hat{\\mu})^2}{2 \\sigma^2}}$$\n",
        "\n",
        "We take the negative logarithm of this likelihood model. \n",
        "\n",
        "$$-log\\big(p(data|model) \\big) = - \\frac{1}{2}\\big( log( 2 \\pi \\sigma^2) + \\frac{(x_i - \\hat{\\mu})^2}{2 \\sigma^2} \\big)$$\n",
        "\n",
        "Now, the first term on the right is a constant, as is the denominator of the second term if we assume known variance. Since our goal is to minimize cross entropy, we can eliminate these quantities and be left with just the following.\n",
        "\n",
        "$$-(x_i - \\hat{\\mu})^2$$\n",
        "\n",
        "This is one issue we need to deal with. Our formulation of cross entropy involves the unknown true distribution of the underling process $p(X)$. However, since $p(x_i)$ is fixed but unknown we can just write the following.\n",
        "\n",
        "$$min \\big( \\mathbb{H}(P,Q) \\big) \\propto argmin_{\\mu} \\big( - \\sum_{i=1}^n (x_i - \\hat{\\mu})^2 \\big)$$\n",
        "\n",
        "This is just the definition of a Maximum Likelihood Estimator (MLE) for the least squares problem! In fact, since the cross entropy is computed using the negative log likelihood, it will always be minimized by the MLE. \n",
        "\n",
        "You can see another example of [cross-entropy error function and logistic regression](https://en.wikipedia.org/wiki/Cross_entropy)."
      ]
    },
    {
      "cell_type": "markdown",
      "metadata": {
        "id": "l3V2IwSmvWn6"
      },
      "source": [
        "### 3.2 Computing Loss functions\n",
        "\n",
        "The loss function is used to train the model. Therefore the loss function must be computed in an efficient manner. \n",
        "\n",
        "Given the number of parameters in deep neural nets over-fitting is inevitable. Therefore some regularization is required. We will discuss regularization in greater depth in another lesson. For now, we will just use the following regularized form.\n",
        "\n",
        "$$\\mathbb{H}(P,Q) = J(\\theta) = - \\frac{1}{N}\\sum_{i=1}^n ln_b q(x_i|\\theta) + \\lambda ||\\theta||^2\\\\ \n",
        "where\\\\\n",
        "- \\frac{1}{N}\\sum_{i=1}^n ln_b q(x_i|\\theta) = J_{MLE}(\\theta)\\\\\n",
        "||\\theta||^2 = L^2\\ norm\\ regularization\\ term$$\n",
        "\n",
        "To minimize $J(\\theta)$ in this form $\\theta$ must be chosen to keep $||\\theta||^2$ small while minimizing the negative log likelihood of $q(x_i|\\theta)$.\n",
        "\n",
        "Let's  consider how we would compute this form of the lost function. The computational graph shown below illustrates the computational path for the regularize d loss function. For simplicity, no bias terms are considered.\n",
        "\n",
        "<img src=\"https://github.com/alvaroiramirez/CSCI_E-25/blob/master/img/CompGraph2.JPG?raw=1\" alt=\"Drawing\" style=\"width:600px; height:300px\"/>\n",
        "<center>Figure 3.1  \n",
        "Computational graph for computing loss of fully connected neural network of Figure 2.3 </center>\n",
        "\n",
        "\n"
      ]
    },
    {
      "cell_type": "code",
      "source": [
        "from google.colab import drive\n",
        "drive.mount('/content/drive')"
      ],
      "metadata": {
        "colab": {
          "base_uri": "https://localhost:8080/",
          "height": 0
        },
        "id": "oE7eK004UKCe",
        "outputId": "7d6ebbe4-f33f-4212-be88-9e95c7c88ece"
      },
      "execution_count": 9,
      "outputs": [
        {
          "output_type": "stream",
          "name": "stdout",
          "text": [
            "Mounted at /content/drive\n"
          ]
        }
      ]
    },
    {
      "cell_type": "markdown",
      "metadata": {
        "id": "kCckH24YvWn6"
      },
      "source": [
        "### 3.3 Chain rule of calculus\n",
        "\n",
        "Key to the back propagation algorithm is the chain rule of calculus; not to be confused with the chain rule of probability. The chain rule allows us to back propagate gradients though an arbitrarily complex graph of functions. \n",
        "\n",
        "Now, suppose there is a function $y = g(x)$, and another function $z = f(y) = f(g(x))$. How do we compute the derivative of $z$ with respect to $x$? Applying the chain rule we get: \n",
        "\n",
        "$$\\frac{dz}{dx} = \\frac{dz}{dy}\\frac{dy}{dx}$$\n",
        "\n",
        "Consider $x \\in R^M$ $g(x) \\Rightarrow R^M$ and $ f(y) \\Rightarrow z \\in R$. The chain rule becomes:\n",
        "\n",
        "$$\\frac{\\partial z}{\\partial x} = \\sum_{j \\in M} \\frac{\\partial z}{\\partial y_j}\\frac{\\partial y_j}{\\partial x_i}$$\n",
        "\n",
        "Which we can rewrite as  \n",
        "\n",
        "$$\\nabla_{x}z = \\Big( \\frac{\\partial x}{\\partial y} \\Big)^T \\nabla_{y}z$$"
      ]
    },
    {
      "cell_type": "markdown",
      "metadata": {
        "id": "h7W2ATTLvWn6"
      },
      "source": [
        "Here, $\\frac{\\partial x}{\\partial y}$ is the $n x m$ **Jacobian matrix** of partial derivatives. The Jacobian is multiplied by the gradient with respect to $y$, $\\nabla_{y}z$. You can think of the Jacobian as a transformation for a gradient with respect to $y$ to what we really want, the gradient with respect to $z$."
      ]
    },
    {
      "cell_type": "markdown",
      "metadata": {
        "id": "Yp168VDsvWn6"
      },
      "source": [
        "### 3.4 Example of finding a gradient. \n",
        "\n",
        "Let's work out backpropagation for a very simple neural network with a just an input layer and an output layer. This neural network, including the loss function, is shown in Figure 3.2 below. This network has been highly simplified. There are only three layers, input layer, a two unit hidden layer with no bias terms, and a single unit output layer. There are only two weight tensors for this network. Further, the hidden units use rectilinear activation and the output unit uses linear activation. These activation functions have simple partial derivatives.  \n",
        "\n",
        "<img src=\"https://github.com/alvaroiramirez/CSCI_E-25/blob/master/Labs/img/LossGraph.JPG?raw=1\" alt=\"Drawing\" style=\"width:600px; height:300px\"/>\n",
        "<center>Figure 3.2 \n",
        "Simple single layer neural network with loss function </center>\n",
        "\n",
        "To analyze this network we will refer to the computational graph shown in Figure 3.1 above. \n",
        "\n",
        "First, we need to work out the forward propagation relationships. We can compute the outputs of the hidden layer as follows.\n",
        "\n",
        "$$S_{\\{1,2\\}} = \\sigma_h \\big( W^1 \\cdot X_{\\{1,2\\}} \\big) = \\sigma \\big( \\sum_j W^1_{i,j} x_j \\big)$$  \n",
        "\n",
        "In the same way, the result from the output layer can be computed as follows, since the activation function for this layer is linear. \n",
        "\n",
        "$$S_3 = W^2 \\cdot S_{\\{1,2\\}} = \\sum_i W^2_i \\sigma \\big( \\sum_j W^1_{i,j} x_j \\big)$$"
      ]
    },
    {
      "cell_type": "markdown",
      "metadata": {
        "id": "1O5dZmpovWn6"
      },
      "source": [
        "To perform backpropagation, we need fill out the gradient vector by computing $\\frac{\\partial J(W)}{\\partial W}$ for each weight in the model. \n",
        "\n",
        "$$\\frac{\\partial J(W)}{\\partial W} = \n",
        "\\begin{bmatrix} \n",
        "\\frac{\\partial J(W)}{\\partial W^2_{11}} \\\\\n",
        "\\frac{\\partial J(W)}{\\partial W^2_{12}} \\\\\n",
        "\\frac{\\partial J(W)}{\\partial W^2_{21}} \\\\\n",
        "\\frac{\\partial J(W)}{\\partial W^2_{22}} \\\\\n",
        "\\frac{\\partial J(W)}{\\partial W^1_{1}} \\\\\n",
        "\\frac{\\partial J(W)}{\\partial W^1_{2}}\n",
        "\\end{bmatrix}$$"
      ]
    },
    {
      "cell_type": "markdown",
      "metadata": {
        "id": "4Ky8SK_QvWn6"
      },
      "source": [
        "To keep things simple in this example we will just use a non-normalized squared error loss function. This is just the MLE estimator (without normalization) for a Gaussian distribution. \n",
        "\n",
        "$$J(W) = - \\frac{1}{2} \\sum_{l=1}^n (y_l - S_{3,l})^2 $$\n",
        "\n",
        "Where:  \n",
        "$y_k = $ the label for the lth case.     \n",
        "$\\hat{y_k} = S_{3,k} =$ the output of the network for the lth case. \n",
        "\n",
        "We want to compute the gradients with respect to the input and output tensors:\n",
        "\n",
        "$$\\frac{\\partial J(W)}{\\partial W^1}, \\ \\frac{\\partial J(W)}{\\partial W^2}$$"
      ]
    },
    {
      "cell_type": "markdown",
      "metadata": {
        "id": "AaPra3hUvWn6"
      },
      "source": [
        "Let's start with the easier case of the partial derivatives with respect to the output tensor. We can apply the chain rule as follows:\n",
        "\n",
        "$$\\frac{\\partial J(W)}{\\partial W^2_k} = \\frac{\\partial  J(W)}{\\partial S_{3,k}} \\frac{\\partial S_{3,k}}{\\partial W^2_k}$$\n",
        "\n",
        "The first partial derivative of the chain is:\n",
        "\n",
        "$$\\frac{\\partial J(W)}{\\partial S_{3,k}} = \\frac{\\partial - \\frac{1}{2} (y_k - S_{3,k})^2} {\\partial S_{3,k}} = y_k - S_{3,k} $$\n",
        "\n",
        "And, the partial derivative of the second partial derivative in the chain, given the linear activation of the output unit:\n",
        "\n",
        "$$\\frac{\\partial S_{3,k}}{\\partial W^2_k} = \\frac{\\partial W^2_k S_{j,k}}{\\partial W^2_k}  = S_{j,l}, \\ j \\in \\{1,2\\}$$\n",
        "\n",
        "Multiplying the two components of the chain gives us:\n",
        "\n",
        "$$\\frac{\\partial J(W)}{\\partial W^2_k} = S_{j,k} (y_k - S_{3,k}), \\ j \\in \\{1,2\\} $$"
      ]
    },
    {
      "cell_type": "markdown",
      "metadata": {
        "id": "chcY_037vWn6"
      },
      "source": [
        "The partial derivatives with respect to the input tensor are a bit more complicated. To apply the chain rule we must work backwards from the loss function. This gives the following chain:\n",
        "\n",
        "$$\\frac{\\partial J(W)}{\\partial W^1_{i,j}} =  \\frac{\\partial J(W)}{\\partial S_{3}} \\frac{\\partial S_{3}}{\\partial S_{j}} \\frac{\\partial S_{j}}{\\partial W^1_{i,j}}$$\n",
        "\n",
        "First, we find the right most partial derivative in our chain:\n",
        "\n",
        "\\begin{equation}\n",
        "\\frac{\\partial S_j}{\\partial W^1_{i,j}} = \n",
        "\\begin{cases}\n",
        "     \\frac {\\partial W^1_{i,j} x_{i,k}}{\\partial W^1_{i,j}}, & \\text{if $S_j>0$} \\\\\n",
        "    0, & \\text{otherwise}\n",
        "  \\end{cases}\n",
        "\\end{equation}\n",
        "\n",
        "Which given the ReLU activation results in:\n",
        "\n",
        "\\begin{equation}\n",
        "\\frac{\\partial S_j}{\\partial W^1_{i,j}} = \n",
        "\\begin{cases}\n",
        "    1, & \\text{if $S_j>0$}  \\\\\n",
        "    0, & \\text{otherwise}\n",
        "  \\end{cases}\n",
        "\\end{equation}\n",
        "\n",
        "\n",
        "The middle partial derivative must account for the nonlinearity:\n",
        "\n",
        "$$\\frac{\\partial S_{3}}{\\partial S_{j}} = W^2_j$$\n",
        "\n",
        "We have already computed $\\frac{\\partial J(W)}{\\partial S_{3}}$. Multiplying all three partial derivatives we find:\n",
        "\n",
        "\\begin{equation}\n",
        "\\frac{\\partial J(W)}{\\partial W^1_{i,j}} = \n",
        "\\begin{cases}\n",
        "    (y_k - S_{3,k}) W^2_j, & \\text{if $S_j>0$} \\\\\n",
        "    0, & \\text{otherwise}\n",
        "  \\end{cases}\n",
        "\\end{equation}\n",
        "\n",
        "Where $S_3$ and $S_{\\{1,2 \\}}$ are computed using the relationships given above. \n",
        "\n",
        "A more detailed, but still digestable example of computing gradients for backpropagation can be found in a blog post by [Manfred Zaharauskas](http://blog.manfredas.com/backpropagation-tutorial/), among many other places. "
      ]
    },
    {
      "cell_type": "markdown",
      "metadata": {
        "id": "SYyTGLf-vWn6"
      },
      "source": [
        "## 4.0 Creating a Model With Keras      \n",
        "\n",
        "You will now create and test a first deep learning classifier model for the MNIST dataset using Keras. The fully connected model has one hidden layer.            "
      ]
    },
    {
      "cell_type": "markdown",
      "metadata": {
        "id": "-4eoocqMvWn6"
      },
      "source": [
        "### 4.1 Preparing the Dataset      \n",
        "\n",
        "You have already worked with the MNIST dataset. To load these data and prepare them for the Keras model execute the code in the cell below.      "
      ]
    },
    {
      "cell_type": "code",
      "execution_count": 10,
      "metadata": {
        "colab": {
          "base_uri": "https://localhost:8080/",
          "height": 0
        },
        "id": "TO8Y9_mQvWn6",
        "outputId": "a87d3a3b-de4e-4b98-92ab-dead61ca8b80"
      },
      "outputs": [
        {
          "output_type": "stream",
          "name": "stdout",
          "text": [
            "Downloading data from https://storage.googleapis.com/tensorflow/tf-keras-datasets/mnist.npz\n",
            "11490434/11490434 [==============================] - 0s 0us/step\n",
            "(60000, 784)\n",
            "(10000, 784)\n"
          ]
        }
      ],
      "source": [
        "(train_images, train_labels), (test_images, test_labels) = mnist.load_data()\n",
        "train_images = train_images.reshape((60000, 28*28)).astype('float32')/255\n",
        "print(train_images.shape)\n",
        "test_images = test_images.reshape((10000, 28*28)).astype('float32')/255\n",
        "print(test_images.shape)"
      ]
    },
    {
      "cell_type": "code",
      "execution_count": 11,
      "metadata": {
        "colab": {
          "base_uri": "https://localhost:8080/",
          "height": 0
        },
        "id": "7pL2g9OrvWn7",
        "outputId": "7113cd8b-be91-44ed-a1dc-a9ea61621878"
      },
      "outputs": [
        {
          "output_type": "execute_result",
          "data": {
            "text/plain": [
              "dtype('float32')"
            ]
          },
          "metadata": {},
          "execution_count": 11
        }
      ],
      "source": [
        "train_images.dtype"
      ]
    },
    {
      "cell_type": "markdown",
      "metadata": {
        "id": "FX9ACCkbvWn7"
      },
      "source": [
        "There is one more preprocessing step. The labels need to be [**one hot encoded**](https://www.kaggle.com/dansbecker/using-categorical-data-with-one-hot-encoding). One hot encoding transforms an $N$ level categorical variable into $N$ binary columns. One column represents one category. A 1 or binary true value is encoded in the column of a given category with the other columns coded as 0 or false.          \n",
        "\n",
        "> **Exercise 5-3:** You will now one hot encoded the label vectors of the training and test data. Use the [keras.utils.np_utils.to_categorical](https://www.tensorflow.org/api_docs/python/tf/keras/utils/to_categorical) function to create the one hot encoded labels. Print the first 10 rows of the training labels. You will need to set options to display all columns.   "
      ]
    },
    {
      "cell_type": "code",
      "execution_count": 12,
      "metadata": {
        "scrolled": true,
        "colab": {
          "base_uri": "https://localhost:8080/",
          "height": 0
        },
        "id": "EHziFNvgvWn7",
        "outputId": "6f39e314-694c-4192-9404-5950a0fc42df"
      },
      "outputs": [
        {
          "output_type": "stream",
          "name": "stdout",
          "text": [
            "First 10 rows:\n",
            "\n",
            "[[0. 0. 0. 0. 0. 1. 0. 0. 0. 0.]\n",
            " [1. 0. 0. 0. 0. 0. 0. 0. 0. 0.]\n",
            " [0. 0. 0. 0. 1. 0. 0. 0. 0. 0.]\n",
            " [0. 1. 0. 0. 0. 0. 0. 0. 0. 0.]\n",
            " [0. 0. 0. 0. 0. 0. 0. 0. 0. 1.]\n",
            " [0. 0. 1. 0. 0. 0. 0. 0. 0. 0.]\n",
            " [0. 1. 0. 0. 0. 0. 0. 0. 0. 0.]\n",
            " [0. 0. 0. 1. 0. 0. 0. 0. 0. 0.]\n",
            " [0. 1. 0. 0. 0. 0. 0. 0. 0. 0.]\n",
            " [0. 0. 0. 0. 1. 0. 0. 0. 0. 0.]]\n"
          ]
        }
      ],
      "source": [
        "## Put your code here\n",
        "train_labels = tf.keras.utils.to_categorical(train_labels)\n",
        "test_labels = tf.keras.utils.to_categorical(test_labels)\n",
        "\n",
        "print(\"First 10 rows:\\n\")\n",
        "with np.printoptions(threshold=np.inf):\n",
        "    print(train_labels[:10,:])"
      ]
    },
    {
      "cell_type": "markdown",
      "metadata": {
        "id": "DFs0-TkVvWn7"
      },
      "source": [
        "> Examine the printed one hot encoded labels. Does the number of columns correspond to the number of label categories and why is this expected?   \n",
        "> **End of exercise.**"
      ]
    },
    {
      "cell_type": "markdown",
      "metadata": {
        "id": "OrjKKjazvWn7"
      },
      "source": [
        "> **Answer:**        \n",
        "\n",
        "> Yes, it does. It is expected because the dataset has 10 different digits. Here, each column represents a digit due to one-hot encoding."
      ]
    },
    {
      "cell_type": "markdown",
      "metadata": {
        "id": "GY661j7gvWn7"
      },
      "source": [
        "## 4.2 Defining and Executing the Deep Learning Model\n",
        "\n",
        "It is now time to define the Keras neural network model. This model uses the [Keras **Sequential** class](https://keras.io/guides/sequential_model/). The model is constructed by **adding dense layers** with the `add` method. Hidden and output layers are specified by creating instances of the [Dense layer class](https://keras.io/api/layers/core_layers/dense/). An input data shape must be specified only for the input layer.         "
      ]
    },
    {
      "cell_type": "markdown",
      "metadata": {
        "id": "YSrktQ3kvWn7"
      },
      "source": [
        "> **Exercise 5-4:** You will now specify, [compile and fit](https://keras.io/api/models/model_training_apis/) the neural network model by the following steps:     \n",
        "> 1. Define the sequential model by instantiating a model object using [`models.Sequential`](https://keras.io/guides/sequential_model/). Name your model `nn`. Then add layers:  \n",
        ">   - Add a [dense input layer](https://keras.io/api/layers/core_layers/dense/) with $28 \\times 28$ hidden units, rectalinear (`relu`) activation and `input_shape=(28*28, )`.   \n",
        ">   - Add a dense hidden layer with 512 hidden units and rectalinear (`relu`) activation.     \n",
        ">   - Add a dense output output layer with `activation='softmax'`.     \n",
        "> 2. [Compile](https://keras.io/api/models/model_training_apis/) your model with the following arguments; `optimizer='rmsprop', loss='categorical_crossentropy', metrics=['accuracy']`. We will discuss optimizers in another lesson. \n",
        "> 3. Print a summary of the model with the `summary()` method. \n",
        "> 3. Fit your model, using the [fit()](https://keras.io/api/models/model_training_apis/) method, with the training images, training labels, and arguments; `epochs=5, batch_size=128`.   "
      ]
    },
    {
      "cell_type": "code",
      "execution_count": 13,
      "metadata": {
        "colab": {
          "base_uri": "https://localhost:8080/",
          "height": 0
        },
        "id": "h_G-iWaEvWn7",
        "outputId": "d57798a3-07dd-4d08-df65-4ec0c3c0d20e"
      },
      "outputs": [
        {
          "output_type": "stream",
          "name": "stdout",
          "text": [
            "Model: \"sequential\"\n",
            "_________________________________________________________________\n",
            " Layer (type)                Output Shape              Param #   \n",
            "=================================================================\n",
            " dense (Dense)               (None, 784)               615440    \n",
            "                                                                 \n",
            " dense_1 (Dense)             (None, 512)               401920    \n",
            "                                                                 \n",
            " dense_2 (Dense)             (None, 10)                5130      \n",
            "                                                                 \n",
            "=================================================================\n",
            "Total params: 1,022,490\n",
            "Trainable params: 1,022,490\n",
            "Non-trainable params: 0\n",
            "_________________________________________________________________\n"
          ]
        }
      ],
      "source": [
        "## Your code goes here\n",
        "\n",
        "# 1. Define the sequential model by instantiating a model object using models.Sequential. Name your model nn. Then add layers:\n",
        "#    - Add a dense input layer with  28×28  hidden units, rectalinear (relu) activation and input_shape=(28*28, ).\n",
        "#    - Add a dense hidden layer with 512 hidden units and rectalinear (relu) activation.\n",
        "#    - Add a dense output output layer with activation='softmax'.\n",
        "\n",
        "nn = models.Sequential()\n",
        "nn.add(layers.Dense(28 * 28, activation = \"relu\", input_shape = (28 * 28, )))\n",
        "nn.add(layers.Dense(512, activation = \"relu\"))\n",
        "nn.add(layers.Dense(len(train_labels[0]), activation = \"softmax\"))\n",
        "\n",
        "\n",
        "# 2. Compile your model with the following arguments; optimizer='rmsprop', \n",
        "#    loss='categorical_crossentropy', metrics=['accuracy']. We will discuss \n",
        "#    optimizers in another lesson.\n",
        "\n",
        "nn.compile(optimizer = \"rmsprop\", loss = 'categorical_crossentropy', metrics = ['accuracy'])\n",
        "\n",
        "\n",
        "# 3. Print a summary of the model with the summary() method.\n",
        "\n",
        "nn.summary()"
      ]
    },
    {
      "cell_type": "code",
      "execution_count": 14,
      "metadata": {
        "colab": {
          "base_uri": "https://localhost:8080/",
          "height": 0
        },
        "id": "xEkVWlPHvWn7",
        "outputId": "43299d84-3f88-4669-ab7a-5972b2eb8fa1"
      },
      "outputs": [
        {
          "output_type": "stream",
          "name": "stdout",
          "text": [
            "Epoch 1/5\n",
            "469/469 [==============================] - 16s 31ms/step - loss: 0.2205 - accuracy: 0.9318\n",
            "Epoch 2/5\n",
            "469/469 [==============================] - 14s 31ms/step - loss: 0.0788 - accuracy: 0.9752\n",
            "Epoch 3/5\n",
            "469/469 [==============================] - 14s 31ms/step - loss: 0.0498 - accuracy: 0.9840\n",
            "Epoch 4/5\n",
            "469/469 [==============================] - 13s 28ms/step - loss: 0.0341 - accuracy: 0.9890\n",
            "Epoch 5/5\n",
            "469/469 [==============================] - 13s 28ms/step - loss: 0.0256 - accuracy: 0.9921\n"
          ]
        },
        {
          "output_type": "execute_result",
          "data": {
            "text/plain": [
              "<keras.callbacks.History at 0x7fbba53c3160>"
            ]
          },
          "metadata": {},
          "execution_count": 14
        }
      ],
      "source": [
        "## Your code goes here\n",
        "\n",
        "# 4. Fit your model, using the fit() method, with the training images, training \n",
        "#    labels, and arguments; epochs=5, batch_size=128.\n",
        "\n",
        "nn.fit(train_images, train_labels, batch_size = 128, epochs = 5)"
      ]
    },
    {
      "cell_type": "markdown",
      "metadata": {
        "id": "KvJQoWKmvWn7"
      },
      "source": [
        "> Answer these questions:  \n",
        "> 1. Why is the `categorical_crossentropy` the good choice loss function and `softmax` the correct choice for output activation for this model? \n",
        "> 2. Considering the number of training samples, and number of trainable model parameters, where do you think this model might lie along the bias-variance trade-off spectrum?   \n",
        "> 2. Examine the evolution of the loss function and accuracy. What do these figures tell you about learning for this model?  \n",
        "> **End or exercise.**"
      ]
    },
    {
      "cell_type": "markdown",
      "metadata": {
        "id": "oUVb19k7vWn7"
      },
      "source": [
        "> **Answers:**   \n",
        "\n",
        "> 1. The output layer of our model is a softmax because there are 10 possible values for the answer. softmax returns the probability distribution for these possible outputs, where the sum of the ten scores is 1. The prediction to be selected is the class with the highest probability. categorical_crossentropy is the best choice because it measures the distance between probability distribution output and the true distribution of the labels.   \n",
        "\n",
        "> 2. We have to consider that there are 60,000 images and 1,022,490 parameters. Given that the number of parameters is several orders of magnitude larger than the samples, the model may be prone to overfit.     \n",
        "\n",
        "> 3. The accuracy and loss values returned indicate that the model learned very well the training data. That is, the model will correctly predict a value taken from the training data 99.21% of the time. However, we still have to verify how the model predicts unkown test data. If accuracy for test data predictions is low, that means that the model is overfitting.    "
      ]
    },
    {
      "cell_type": "markdown",
      "metadata": {
        "id": "-ZNz0MS5vWn7"
      },
      "source": [
        "### 4.3 Performance Metrics\n",
        "\n",
        "Now that we have the components for training a basic neural network in place we need a way to evaluate its performance. It turns out, there is nothing special about evaluation of neural network models as opposed to other machine learning models. For regression models, one typically use the standard metrics such as root mean square error (RMSE), mean absolute error (MAE). For classification models, one also typically uses the standard metrics including the confusion matrix, accuracy, precision and recall. The [Keras metrics package](https://keras.io/api/metrics/) provides numerous methods for model evaluation. \n",
        "\n",
        "Execute the code in the cell below to compute and display performance metrics for your model based on the test dataset. "
      ]
    },
    {
      "cell_type": "code",
      "execution_count": 15,
      "metadata": {
        "colab": {
          "base_uri": "https://localhost:8080/",
          "height": 0
        },
        "id": "LjNJbC9BvWn8",
        "outputId": "d8c1c346-f82c-4b7a-ccff-0a873d2e2fbc"
      },
      "outputs": [
        {
          "output_type": "stream",
          "name": "stdout",
          "text": [
            "313/313 [==============================] - 3s 8ms/step - loss: 0.0797 - accuracy: 0.9769\n",
            "Test accuracy = 0.977   Test loss = 0.080\n"
          ]
        }
      ],
      "source": [
        "test_loss, test_accuracy = nn.evaluate(test_images, test_labels)\n",
        "print(\"Test accuracy = {0:.3f}   Test loss = {1:.3f}\".format(test_accuracy, test_loss))"
      ]
    },
    {
      "cell_type": "markdown",
      "metadata": {
        "id": "9XyMHyG4vWn8"
      },
      "source": [
        "> **Exercise 5-5:** Compare the results of the evaluation with the same metrics achieved during model training. What does the difference tell you about the generalization for this model?  "
      ]
    },
    {
      "cell_type": "markdown",
      "metadata": {
        "id": "yumXE_elvWn8"
      },
      "source": [
        "> **Answer:**    \n",
        "\n",
        "> The difference tells me how well the model generalizes. It is normal that accuracy is higher and loss is lower for training data because training samples are used to train the model. In this case, the accuracy of 98.14% and the loss of 0.0633 tells me that the model is doing wonderful. It is able to generalize very well to correctly predict unknowm samples without overfitting issues."
      ]
    },
    {
      "cell_type": "markdown",
      "metadata": {
        "id": "yiPO8YuGvWn8"
      },
      "source": [
        "## 5.0 Using Training History   \n",
        "\n",
        "The Keras model `fit` method creates a [TensorFlow history object using callbacks](https://www.tensorflow.org/api_docs/python/tf/keras/callbacks/History). The information contained in the history object can be very useful in understanding model training; what is working and what is not.         "
      ]
    },
    {
      "cell_type": "markdown",
      "metadata": {
        "id": "BeG8V_ZrvWn8"
      },
      "source": [
        "> **Exercise 5-6:** You will now re-train your model while capturing a history. To retrain a model you must re-compile it first to create a fresh model object. Training an existing model object will continue the training of that object. This property of Keras models can be most useful for improving existing models when new training data becomes available. Do the following:      \n",
        "> 1. Compile the existing model using the same arguments as before.     \n",
        "> 2. Fit the model as before, but for 10 epochs and with an additional argument; `validation_data=(test_images, test_labels)`. Assign the results to a variable, `history_nn`.   \n",
        "> 3. Execute the code in the next two cells to display charts of training and test loss and accuracy.     "
      ]
    },
    {
      "cell_type": "code",
      "execution_count": 16,
      "metadata": {
        "colab": {
          "base_uri": "https://localhost:8080/",
          "height": 0
        },
        "id": "DUlmIz6DvWn8",
        "outputId": "78cf41ab-e70a-4f27-d880-5282ae307de2"
      },
      "outputs": [
        {
          "output_type": "stream",
          "name": "stdout",
          "text": [
            "Epoch 1/10\n",
            "469/469 [==============================] - 16s 31ms/step - loss: 0.0187 - accuracy: 0.9942 - val_loss: 0.0618 - val_accuracy: 0.9833\n",
            "Epoch 2/10\n",
            "469/469 [==============================] - 16s 35ms/step - loss: 0.0140 - accuracy: 0.9952 - val_loss: 0.0908 - val_accuracy: 0.9771\n",
            "Epoch 3/10\n",
            "469/469 [==============================] - 14s 31ms/step - loss: 0.0105 - accuracy: 0.9966 - val_loss: 0.0772 - val_accuracy: 0.9830\n",
            "Epoch 4/10\n",
            "469/469 [==============================] - 15s 32ms/step - loss: 0.0074 - accuracy: 0.9975 - val_loss: 0.0792 - val_accuracy: 0.9833\n",
            "Epoch 5/10\n",
            "469/469 [==============================] - 15s 32ms/step - loss: 0.0071 - accuracy: 0.9976 - val_loss: 0.0852 - val_accuracy: 0.9836\n",
            "Epoch 6/10\n",
            "469/469 [==============================] - 16s 34ms/step - loss: 0.0048 - accuracy: 0.9984 - val_loss: 0.0762 - val_accuracy: 0.9839\n",
            "Epoch 7/10\n",
            "469/469 [==============================] - 15s 33ms/step - loss: 0.0037 - accuracy: 0.9988 - val_loss: 0.0897 - val_accuracy: 0.9829\n",
            "Epoch 8/10\n",
            "469/469 [==============================] - 14s 30ms/step - loss: 0.0023 - accuracy: 0.9992 - val_loss: 0.0862 - val_accuracy: 0.9859\n",
            "Epoch 9/10\n",
            "469/469 [==============================] - 15s 32ms/step - loss: 7.9281e-04 - accuracy: 0.9998 - val_loss: 0.0816 - val_accuracy: 0.9852\n",
            "Epoch 10/10\n",
            "469/469 [==============================] - 15s 32ms/step - loss: 5.8799e-04 - accuracy: 0.9998 - val_loss: 0.0892 - val_accuracy: 0.9840\n"
          ]
        }
      ],
      "source": [
        "## Your code goes here\n",
        "\n",
        "# 1. Compile the existing model using the same arguments as before.\n",
        "\n",
        "nn.compile(optimizer = \"rmsprop\", loss = 'categorical_crossentropy', metrics = ['accuracy'])\n",
        "\n",
        "\n",
        "# 2. Fit the model as before, but for 10 epochs and with an additional argument; \n",
        "#    validation_data=(test_images, test_labels). Assign the results to a \n",
        "#    variable, history_nn.\n",
        "\n",
        "history_nn = nn.fit(train_images, train_labels, batch_size = 128, epochs = 10, validation_data = (test_images, test_labels))\n",
        "\n",
        "\n",
        "# 3. Execute the code in the next two cells to display charts of training and \n",
        "#    test loss and accuracy."
      ]
    },
    {
      "cell_type": "code",
      "execution_count": 17,
      "metadata": {
        "colab": {
          "base_uri": "https://localhost:8080/",
          "height": 573
        },
        "id": "R9aU52a8vWn8",
        "outputId": "a3d321bb-d618-46d6-c5e6-4fe6ef58dafc"
      },
      "outputs": [
        {
          "output_type": "display_data",
          "data": {
            "text/plain": [
              "<Figure size 432x288 with 1 Axes>"
            ],
            "image/png": "[encoded data removed]"
          },
          "metadata": {}
        },
        {
          "output_type": "display_data",
          "data": {
            "text/plain": [
              "<Figure size 432x288 with 1 Axes>"
            ],
            "image/png": "[encoded data removed]"
          },
          "metadata": {}
        }
      ],
      "source": [
        "def plot_loss(history):\n",
        "    train_loss = history.history['loss']\n",
        "    test_loss = history.history['val_loss']\n",
        "    x = list(range(1, len(test_loss) + 1))\n",
        "    plt.plot(x, test_loss, color = 'red', label = 'test loss')\n",
        "    plt.plot(x, train_loss, label = 'traning loss')\n",
        "    plt.xlabel('Epoch')\n",
        "    plt.ylabel('Loss')\n",
        "    plt.title('Loss vs. Epoch')\n",
        "    plt.legend()\n",
        "    plt.show()\n",
        "    \n",
        "def plot_accuracy(history):\n",
        "    train_acc = history.history['accuracy']\n",
        "    test_acc = history.history['val_accuracy']\n",
        "    x = list(range(1, len(test_acc) + 1))\n",
        "    plt.plot(x, test_acc, color = 'red', label = 'test accuracy')\n",
        "    plt.plot(x, train_acc, label = 'training accuracy')  \n",
        "    plt.xlabel('Epoch')\n",
        "    plt.ylabel('Accuracy')\n",
        "    plt.title('Accuracy vs. Epoch')  \n",
        "    plt.legend(loc='lower right')\n",
        "    plt.show()    \n",
        "    \n",
        "plot_loss(history_nn)  \n",
        "plot_accuracy(history_nn)    "
      ]
    },
    {
      "cell_type": "markdown",
      "metadata": {
        "id": "fZeU-s8AvWn8"
      },
      "source": [
        "> Examine the trajectory of the training and test loss and accuracy. What does the divergence of these losses and accuracies tell you about the learning and generalization of the model?       \n",
        "> **End of exercise.**    "
      ]
    },
    {
      "cell_type": "markdown",
      "metadata": {
        "id": "e6rp41w1vWn8"
      },
      "source": [
        "> **Answer:**   \n",
        "\n",
        "> Although the range within accuracy oscilates is very small and for loss is not that different, the oscilating behavior of loss and accuracy for test data while loss steadily decreases and accuracy steadily increases for train data is a sign of overfitting."
      ]
    },
    {
      "cell_type": "markdown",
      "metadata": {
        "id": "1OzsTbISvWn8"
      },
      "source": [
        "## 6.0 Adding Regularization        \n",
        "\n",
        "You have seen some of the effects of over-fitting of the neural network model. **Regularization** methods are widely used in machine learning to prevent over-fitting. Conceptually, you can think of regularization as moving the model toward lower variance and higher bias to improve generalization. We will examine regularization in greater detail in another lesson.      \n",
        "\n",
        "Keras used the [layer weight regularizer class](https://keras.io/api/layers/regularizers/) to add weight constraints to the layers. Here, we will only used the L2 regularizer."
      ]
    },
    {
      "cell_type": "markdown",
      "metadata": {
        "id": "SkSSoIb7vWn8"
      },
      "source": [
        "> **Exercise 5-7:** You will now add L2 regularization to the dense input and hidden layers of your model. Do the following:    \n",
        "> 1. Starting with the model specification you have been using, add the following argument to the input and hidden layer; `kernel_regularizer=regularizers.l2(0.1)`.    \n",
        "> 2. Compile the model.   \n",
        "> 3. Fit the model for 80 epochs, saving the history object. This will take some time!   \n",
        "> 4. Plot the training and test loss and accuracy.  "
      ]
    },
    {
      "cell_type": "code",
      "execution_count": 19,
      "metadata": {
        "scrolled": false,
        "colab": {
          "base_uri": "https://localhost:8080/",
          "height": 3351
        },
        "id": "9rjUeAvBvWn8",
        "outputId": "2bc25ea2-6a11-431c-dae9-eb7eb7d33e27"
      },
      "outputs": [
        {
          "output_type": "stream",
          "name": "stdout",
          "text": [
            "Epoch 1/80\n",
            "469/469 [==============================] - 18s 36ms/step - loss: 5.3530 - accuracy: 0.7480 - val_loss: 1.0355 - val_accuracy: 0.8581\n",
            "Epoch 2/80\n",
            "469/469 [==============================] - 16s 34ms/step - loss: 0.9860 - accuracy: 0.8408 - val_loss: 0.9584 - val_accuracy: 0.8115\n",
            "Epoch 3/80\n",
            "469/469 [==============================] - 17s 37ms/step - loss: 0.8553 - accuracy: 0.8596 - val_loss: 0.7647 - val_accuracy: 0.8823\n",
            "Epoch 4/80\n",
            "469/469 [==============================] - 15s 33ms/step - loss: 0.7923 - accuracy: 0.8677 - val_loss: 0.7398 - val_accuracy: 0.8830\n",
            "Epoch 5/80\n",
            "469/469 [==============================] - 15s 33ms/step - loss: 0.7512 - accuracy: 0.8717 - val_loss: 0.7502 - val_accuracy: 0.8712\n",
            "Epoch 6/80\n",
            "469/469 [==============================] - 17s 36ms/step - loss: 0.7182 - accuracy: 0.8763 - val_loss: 0.6543 - val_accuracy: 0.8986\n",
            "Epoch 7/80\n",
            "469/469 [==============================] - 16s 34ms/step - loss: 0.6957 - accuracy: 0.8777 - val_loss: 0.6673 - val_accuracy: 0.8808\n",
            "Epoch 8/80\n",
            "469/469 [==============================] - 16s 34ms/step - loss: 0.6811 - accuracy: 0.8789 - val_loss: 0.7054 - val_accuracy: 0.8620\n",
            "Epoch 9/80\n",
            "469/469 [==============================] - 17s 36ms/step - loss: 0.6675 - accuracy: 0.8809 - val_loss: 0.6410 - val_accuracy: 0.8868\n",
            "Epoch 10/80\n",
            "469/469 [==============================] - 16s 35ms/step - loss: 0.6584 - accuracy: 0.8809 - val_loss: 0.6721 - val_accuracy: 0.8755\n",
            "Epoch 11/80\n",
            "469/469 [==============================] - 16s 35ms/step - loss: 0.6480 - accuracy: 0.8820 - val_loss: 0.5890 - val_accuracy: 0.9040\n",
            "Epoch 12/80\n",
            "469/469 [==============================] - 16s 34ms/step - loss: 0.6380 - accuracy: 0.8835 - val_loss: 0.6288 - val_accuracy: 0.8821\n",
            "Epoch 13/80\n",
            "469/469 [==============================] - 16s 33ms/step - loss: 0.6250 - accuracy: 0.8889 - val_loss: 0.6734 - val_accuracy: 0.8693\n",
            "Epoch 14/80\n",
            "469/469 [==============================] - 17s 37ms/step - loss: 0.6161 - accuracy: 0.8916 - val_loss: 0.6028 - val_accuracy: 0.8941\n",
            "Epoch 15/80\n",
            "469/469 [==============================] - 16s 34ms/step - loss: 0.6108 - accuracy: 0.8915 - val_loss: 0.6042 - val_accuracy: 0.8885\n",
            "Epoch 16/80\n",
            "469/469 [==============================] - 15s 32ms/step - loss: 0.6030 - accuracy: 0.8919 - val_loss: 0.8045 - val_accuracy: 0.8030\n",
            "Epoch 17/80\n",
            "469/469 [==============================] - 15s 33ms/step - loss: 0.5977 - accuracy: 0.8916 - val_loss: 0.5895 - val_accuracy: 0.8906\n",
            "Epoch 18/80\n",
            "469/469 [==============================] - 16s 33ms/step - loss: 0.5944 - accuracy: 0.8921 - val_loss: 0.5401 - val_accuracy: 0.9122\n",
            "Epoch 19/80\n",
            "469/469 [==============================] - 16s 35ms/step - loss: 0.5862 - accuracy: 0.8943 - val_loss: 0.5850 - val_accuracy: 0.8929\n",
            "Epoch 20/80\n",
            "469/469 [==============================] - 16s 35ms/step - loss: 0.5833 - accuracy: 0.8932 - val_loss: 0.6552 - val_accuracy: 0.8565\n",
            "Epoch 21/80\n",
            "469/469 [==============================] - 16s 34ms/step - loss: 0.5784 - accuracy: 0.8945 - val_loss: 0.5378 - val_accuracy: 0.9084\n",
            "Epoch 22/80\n",
            "469/469 [==============================] - 16s 34ms/step - loss: 0.5740 - accuracy: 0.8929 - val_loss: 0.5361 - val_accuracy: 0.9031\n",
            "Epoch 23/80\n",
            "469/469 [==============================] - 16s 34ms/step - loss: 0.5740 - accuracy: 0.8937 - val_loss: 0.5874 - val_accuracy: 0.8853\n",
            "Epoch 24/80\n",
            "469/469 [==============================] - 16s 35ms/step - loss: 0.5691 - accuracy: 0.8946 - val_loss: 0.5161 - val_accuracy: 0.9122\n",
            "Epoch 25/80\n",
            "469/469 [==============================] - 16s 33ms/step - loss: 0.5625 - accuracy: 0.8968 - val_loss: 0.5741 - val_accuracy: 0.8938\n",
            "Epoch 26/80\n",
            "469/469 [==============================] - 15s 33ms/step - loss: 0.5609 - accuracy: 0.8949 - val_loss: 0.5360 - val_accuracy: 0.9056\n",
            "Epoch 27/80\n",
            "469/469 [==============================] - 15s 33ms/step - loss: 0.5565 - accuracy: 0.8967 - val_loss: 0.5337 - val_accuracy: 0.9075\n",
            "Epoch 28/80\n",
            "469/469 [==============================] - 15s 31ms/step - loss: 0.5532 - accuracy: 0.8971 - val_loss: 0.5522 - val_accuracy: 0.8980\n",
            "Epoch 29/80\n",
            "469/469 [==============================] - 15s 32ms/step - loss: 0.5523 - accuracy: 0.8973 - val_loss: 0.5440 - val_accuracy: 0.8951\n",
            "Epoch 30/80\n",
            "469/469 [==============================] - 16s 33ms/step - loss: 0.5469 - accuracy: 0.8992 - val_loss: 0.6090 - val_accuracy: 0.8673\n",
            "Epoch 31/80\n",
            "469/469 [==============================] - 16s 34ms/step - loss: 0.5444 - accuracy: 0.8987 - val_loss: 0.5470 - val_accuracy: 0.9027\n",
            "Epoch 32/80\n",
            "469/469 [==============================] - 17s 35ms/step - loss: 0.5427 - accuracy: 0.8989 - val_loss: 0.5007 - val_accuracy: 0.9162\n",
            "Epoch 33/80\n",
            "469/469 [==============================] - 16s 34ms/step - loss: 0.5368 - accuracy: 0.9021 - val_loss: 0.5324 - val_accuracy: 0.9021\n",
            "Epoch 34/80\n",
            "469/469 [==============================] - 16s 35ms/step - loss: 0.5345 - accuracy: 0.9015 - val_loss: 0.5010 - val_accuracy: 0.9161\n",
            "Epoch 35/80\n",
            "469/469 [==============================] - 17s 35ms/step - loss: 0.5317 - accuracy: 0.9021 - val_loss: 0.5010 - val_accuracy: 0.9148\n",
            "Epoch 36/80\n",
            "469/469 [==============================] - 16s 34ms/step - loss: 0.5289 - accuracy: 0.9028 - val_loss: 0.5029 - val_accuracy: 0.9123\n",
            "Epoch 37/80\n",
            "469/469 [==============================] - 15s 32ms/step - loss: 0.5285 - accuracy: 0.9020 - val_loss: 0.5641 - val_accuracy: 0.8856\n",
            "Epoch 38/80\n",
            "469/469 [==============================] - 15s 32ms/step - loss: 0.5265 - accuracy: 0.9020 - val_loss: 0.4910 - val_accuracy: 0.9143\n",
            "Epoch 39/80\n",
            "469/469 [==============================] - 15s 32ms/step - loss: 0.5237 - accuracy: 0.9024 - val_loss: 0.4834 - val_accuracy: 0.9150\n",
            "Epoch 40/80\n",
            "469/469 [==============================] - 15s 33ms/step - loss: 0.5197 - accuracy: 0.9037 - val_loss: 0.5623 - val_accuracy: 0.8827\n",
            "Epoch 41/80\n",
            "469/469 [==============================] - 16s 35ms/step - loss: 0.5198 - accuracy: 0.9028 - val_loss: 0.5145 - val_accuracy: 0.8994\n",
            "Epoch 42/80\n",
            "469/469 [==============================] - 18s 39ms/step - loss: 0.5175 - accuracy: 0.9043 - val_loss: 0.5755 - val_accuracy: 0.8787\n",
            "Epoch 43/80\n",
            "469/469 [==============================] - 16s 34ms/step - loss: 0.5169 - accuracy: 0.9034 - val_loss: 0.4775 - val_accuracy: 0.9156\n",
            "Epoch 44/80\n",
            "469/469 [==============================] - 16s 35ms/step - loss: 0.5144 - accuracy: 0.9041 - val_loss: 0.5746 - val_accuracy: 0.8768\n",
            "Epoch 45/80\n",
            "469/469 [==============================] - 17s 36ms/step - loss: 0.5132 - accuracy: 0.9049 - val_loss: 0.6019 - val_accuracy: 0.8778\n",
            "Epoch 46/80\n",
            "469/469 [==============================] - 17s 36ms/step - loss: 0.5112 - accuracy: 0.9051 - val_loss: 0.5325 - val_accuracy: 0.8863\n",
            "Epoch 47/80\n",
            "469/469 [==============================] - 17s 36ms/step - loss: 0.5086 - accuracy: 0.9054 - val_loss: 0.5414 - val_accuracy: 0.8943\n",
            "Epoch 48/80\n",
            "469/469 [==============================] - 17s 35ms/step - loss: 0.5078 - accuracy: 0.9057 - val_loss: 0.5214 - val_accuracy: 0.9051\n",
            "Epoch 49/80\n",
            "469/469 [==============================] - 17s 36ms/step - loss: 0.5077 - accuracy: 0.9044 - val_loss: 0.6438 - val_accuracy: 0.8517\n",
            "Epoch 50/80\n",
            "469/469 [==============================] - 16s 34ms/step - loss: 0.5056 - accuracy: 0.9051 - val_loss: 0.4900 - val_accuracy: 0.9077\n",
            "Epoch 51/80\n",
            "469/469 [==============================] - 15s 33ms/step - loss: 0.5052 - accuracy: 0.9056 - val_loss: 0.5276 - val_accuracy: 0.8889\n",
            "Epoch 52/80\n",
            "469/469 [==============================] - 15s 33ms/step - loss: 0.5018 - accuracy: 0.9074 - val_loss: 0.4692 - val_accuracy: 0.9150\n",
            "Epoch 53/80\n",
            "469/469 [==============================] - 15s 32ms/step - loss: 0.5013 - accuracy: 0.9050 - val_loss: 0.5031 - val_accuracy: 0.9002\n",
            "Epoch 54/80\n",
            "469/469 [==============================] - 16s 33ms/step - loss: 0.5002 - accuracy: 0.9064 - val_loss: 0.4750 - val_accuracy: 0.9141\n",
            "Epoch 55/80\n",
            "469/469 [==============================] - 16s 35ms/step - loss: 0.4981 - accuracy: 0.9054 - val_loss: 0.4581 - val_accuracy: 0.9172\n",
            "Epoch 56/80\n",
            "469/469 [==============================] - 17s 35ms/step - loss: 0.5011 - accuracy: 0.9053 - val_loss: 0.4651 - val_accuracy: 0.9197\n",
            "Epoch 57/80\n",
            "469/469 [==============================] - 16s 34ms/step - loss: 0.4953 - accuracy: 0.9058 - val_loss: 0.5079 - val_accuracy: 0.9058\n",
            "Epoch 58/80\n",
            "469/469 [==============================] - 17s 35ms/step - loss: 0.4945 - accuracy: 0.9059 - val_loss: 0.4658 - val_accuracy: 0.9164\n",
            "Epoch 59/80\n",
            "469/469 [==============================] - 17s 36ms/step - loss: 0.4915 - accuracy: 0.9068 - val_loss: 0.5528 - val_accuracy: 0.8937\n",
            "Epoch 60/80\n",
            "469/469 [==============================] - 16s 34ms/step - loss: 0.4933 - accuracy: 0.9061 - val_loss: 0.4621 - val_accuracy: 0.9138\n",
            "Epoch 61/80\n",
            "469/469 [==============================] - 17s 36ms/step - loss: 0.4925 - accuracy: 0.9052 - val_loss: 0.4255 - val_accuracy: 0.9276\n",
            "Epoch 62/80\n",
            "469/469 [==============================] - 16s 35ms/step - loss: 0.4909 - accuracy: 0.9059 - val_loss: 0.4451 - val_accuracy: 0.9223\n",
            "Epoch 63/80\n",
            "469/469 [==============================] - 16s 34ms/step - loss: 0.4893 - accuracy: 0.9064 - val_loss: 0.4451 - val_accuracy: 0.9175\n",
            "Epoch 64/80\n",
            "469/469 [==============================] - 15s 33ms/step - loss: 0.4892 - accuracy: 0.9055 - val_loss: 0.4607 - val_accuracy: 0.9127\n",
            "Epoch 65/80\n",
            "469/469 [==============================] - 15s 33ms/step - loss: 0.4879 - accuracy: 0.9062 - val_loss: 0.4654 - val_accuracy: 0.9173\n",
            "Epoch 66/80\n",
            "469/469 [==============================] - 15s 33ms/step - loss: 0.4867 - accuracy: 0.9075 - val_loss: 0.5449 - val_accuracy: 0.8864\n",
            "Epoch 67/80\n",
            "469/469 [==============================] - 15s 32ms/step - loss: 0.4867 - accuracy: 0.9065 - val_loss: 0.5126 - val_accuracy: 0.8899\n",
            "Epoch 68/80\n",
            "469/469 [==============================] - 16s 34ms/step - loss: 0.4867 - accuracy: 0.9070 - val_loss: 0.6011 - val_accuracy: 0.8652\n",
            "Epoch 69/80\n",
            "469/469 [==============================] - 16s 34ms/step - loss: 0.4864 - accuracy: 0.9064 - val_loss: 0.5093 - val_accuracy: 0.8977\n",
            "Epoch 70/80\n",
            "469/469 [==============================] - 16s 34ms/step - loss: 0.4834 - accuracy: 0.9063 - val_loss: 0.5178 - val_accuracy: 0.8986\n",
            "Epoch 71/80\n",
            "469/469 [==============================] - 16s 34ms/step - loss: 0.4826 - accuracy: 0.9063 - val_loss: 0.4685 - val_accuracy: 0.9111\n",
            "Epoch 72/80\n",
            "469/469 [==============================] - 16s 34ms/step - loss: 0.4821 - accuracy: 0.9076 - val_loss: 0.4662 - val_accuracy: 0.9100\n",
            "Epoch 73/80\n",
            "469/469 [==============================] - 16s 34ms/step - loss: 0.4818 - accuracy: 0.9077 - val_loss: 0.5126 - val_accuracy: 0.8938\n",
            "Epoch 74/80\n",
            "469/469 [==============================] - 16s 34ms/step - loss: 0.4815 - accuracy: 0.9062 - val_loss: 0.4612 - val_accuracy: 0.9100\n",
            "Epoch 75/80\n",
            "469/469 [==============================] - 15s 33ms/step - loss: 0.4825 - accuracy: 0.9062 - val_loss: 0.5081 - val_accuracy: 0.8930\n",
            "Epoch 76/80\n",
            "469/469 [==============================] - 16s 33ms/step - loss: 0.4807 - accuracy: 0.9064 - val_loss: 0.4666 - val_accuracy: 0.9075\n",
            "Epoch 77/80\n",
            "469/469 [==============================] - 15s 32ms/step - loss: 0.4780 - accuracy: 0.9064 - val_loss: 0.4854 - val_accuracy: 0.9010\n",
            "Epoch 78/80\n",
            "469/469 [==============================] - 16s 33ms/step - loss: 0.4777 - accuracy: 0.9075 - val_loss: 0.5263 - val_accuracy: 0.8894\n",
            "Epoch 79/80\n",
            "469/469 [==============================] - 16s 34ms/step - loss: 0.4754 - accuracy: 0.9082 - val_loss: 0.4667 - val_accuracy: 0.9115\n",
            "Epoch 80/80\n",
            "469/469 [==============================] - 18s 39ms/step - loss: 0.4782 - accuracy: 0.9072 - val_loss: 0.4719 - val_accuracy: 0.9074\n"
          ]
        },
        {
          "output_type": "display_data",
          "data": {
            "text/plain": [
              "<Figure size 432x288 with 1 Axes>"
            ],
            "image/png": "[encoded data removed]"
          },
          "metadata": {}
        },
        {
          "output_type": "display_data",
          "data": {
            "text/plain": [
              "<Figure size 432x288 with 1 Axes>"
            ],
            "image/png": "[encoded data removed]"
          },
          "metadata": {}
        }
      ],
      "source": [
        "## Your code goes here\n",
        "\n",
        "# 1. Starting with the model specification you have been using, add the following \n",
        "#    argument to the input and hidden layer; \n",
        "#    kernel_regularizer=regularizers.l2(0.1).\n",
        "\n",
        "nn = models.Sequential()\n",
        "nn.add(layers.Dense(28 * 28, activation = \"relu\", input_shape = (28 * 28, ), kernel_regularizer = regularizers.l2(0.1)))\n",
        "nn.add(layers.Dense(512, activation = \"relu\", kernel_regularizer = regularizers.l2(0.1)))\n",
        "nn.add(layers.Dense(len(train_labels[0]), activation = \"softmax\"))\n",
        "\n",
        "\n",
        "# 2. Compile the model.\n",
        "\n",
        "nn.compile(optimizer = \"rmsprop\", loss = 'categorical_crossentropy', metrics = ['accuracy'])\n",
        "\n",
        "\n",
        "# 3. Fit the model for 80 epochs, saving the history object. This will take some time!\n",
        "\n",
        "history_nn = nn.fit(train_images, train_labels, batch_size = 128, epochs = 80, validation_data = (test_images, test_labels))\n",
        "\n",
        "\n",
        "# 4. Plot the training and test loss and accuracy.\n",
        "\n",
        "plot_loss(history_nn)\n",
        "plot_accuracy(history_nn)"
      ]
    },
    {
      "cell_type": "markdown",
      "metadata": {
        "id": "vaMV3o9JvWn8"
      },
      "source": [
        "> Compare the charts of loss and accuracy for the regularized model with those from training the unregularized model and answer these questions:    \n",
        "> 1. Do the charts and numeric metrics for the regularized model show an improvement in the generalization of the model compared to the unregularized model, and why?      \n",
        "> 2. Notice that the test and training loss of the regularized model continue to improve. Do you think that training for additional epochs will be beneficial? \n",
        "> **End of exercise.**           "
      ]
    },
    {
      "cell_type": "markdown",
      "metadata": {
        "id": "JvjAHYy3vWn9"
      },
      "source": [
        "> **Answers:**    \n",
        "> 1. Yes, the numeric metrics for the regularized model do show an improvement in the generalization of the model compared to the unregularized model. The test loss metric is very stable and close to the train loss. However, Accuracy is not as good as loss. It is true that its trend points to increase, but it still oscilates a lot.   \n",
        "\n",
        "> 2. I do not think so. Too much training could make the model overfit. I would probably think in a more effective regularization.     "
      ]
    },
    {
      "cell_type": "markdown",
      "metadata": {
        "id": "tw1VfDaEvWn9"
      },
      "source": [
        "> **Exercise 5-8:** The path of the test loss and particularly the test accuracy of the foregoing model is rather erratic. Such behavior often indicates that the gradient is diffcult to estimate and therefore the optimizer exhibits poor convergence. Batch normalization is known to smooth the loss function which improves the ability to consistently estimate gradient. You will now add a **[BatchNormalization layer](https://keras.io/api/layers/normalization_layers/batch_normalization/)** to the model, along with L2 regularization. Do the following:    \n",
        "> 1. Start with the model specification you used for Exercise 5-7, change the model name to `nnbr`. \n",
        "> 2. After the 512 unit hidden dense layer add a `BatchNormalization` layer, using the argument `momentum=0.998`.\n",
        "> 3. To limit the total bias in the model, change the l2 regularization hyperparameter argument for the dense layer to `0.05`.   \n",
        "> 4. Compile the model.   \n",
        "> 5. Fit the model for 80 epochs, saving the history object. This will take some time!   \n",
        "> 6. Plot the training and test loss and accuracy.  "
      ]
    },
    {
      "cell_type": "code",
      "execution_count": 20,
      "metadata": {
        "colab": {
          "base_uri": "https://localhost:8080/",
          "height": 3351
        },
        "id": "02T6zgpPvWn9",
        "outputId": "7557a6be-9909-49cc-db7a-3aa58dfabcd9"
      },
      "outputs": [
        {
          "output_type": "stream",
          "name": "stdout",
          "text": [
            "Epoch 1/80\n",
            "469/469 [==============================] - 18s 36ms/step - loss: 4.4132 - accuracy: 0.8967 - val_loss: 2.2042 - val_accuracy: 0.2995\n",
            "Epoch 2/80\n",
            "469/469 [==============================] - 16s 35ms/step - loss: 0.3815 - accuracy: 0.9317 - val_loss: 2.0044 - val_accuracy: 0.4155\n",
            "Epoch 3/80\n",
            "469/469 [==============================] - 16s 35ms/step - loss: 0.3606 - accuracy: 0.9348 - val_loss: 1.6182 - val_accuracy: 0.6257\n",
            "Epoch 4/80\n",
            "469/469 [==============================] - 17s 36ms/step - loss: 0.3513 - accuracy: 0.9347 - val_loss: 1.2578 - val_accuracy: 0.7860\n",
            "Epoch 5/80\n",
            "469/469 [==============================] - 16s 35ms/step - loss: 0.3428 - accuracy: 0.9362 - val_loss: 0.8579 - val_accuracy: 0.8802\n",
            "Epoch 6/80\n",
            "469/469 [==============================] - 16s 35ms/step - loss: 0.3387 - accuracy: 0.9363 - val_loss: 0.4930 - val_accuracy: 0.9232\n",
            "Epoch 7/80\n",
            "469/469 [==============================] - 16s 35ms/step - loss: 0.3323 - accuracy: 0.9371 - val_loss: 0.3841 - val_accuracy: 0.9311\n",
            "Epoch 8/80\n",
            "469/469 [==============================] - 16s 35ms/step - loss: 0.3298 - accuracy: 0.9383 - val_loss: 0.4385 - val_accuracy: 0.9007\n",
            "Epoch 9/80\n",
            "469/469 [==============================] - 17s 36ms/step - loss: 0.3269 - accuracy: 0.9383 - val_loss: 0.3652 - val_accuracy: 0.9272\n",
            "Epoch 10/80\n",
            "469/469 [==============================] - 17s 36ms/step - loss: 0.3216 - accuracy: 0.9398 - val_loss: 0.3571 - val_accuracy: 0.9271\n",
            "Epoch 11/80\n",
            "469/469 [==============================] - 16s 35ms/step - loss: 0.3244 - accuracy: 0.9390 - val_loss: 0.3554 - val_accuracy: 0.9274\n",
            "Epoch 12/80\n",
            "469/469 [==============================] - 16s 34ms/step - loss: 0.3154 - accuracy: 0.9420 - val_loss: 0.4570 - val_accuracy: 0.8909\n",
            "Epoch 13/80\n",
            "469/469 [==============================] - 16s 34ms/step - loss: 0.3132 - accuracy: 0.9431 - val_loss: 0.5972 - val_accuracy: 0.8565\n",
            "Epoch 14/80\n",
            "469/469 [==============================] - 16s 35ms/step - loss: 0.3129 - accuracy: 0.9408 - val_loss: 0.3875 - val_accuracy: 0.9159\n",
            "Epoch 15/80\n",
            "469/469 [==============================] - 16s 34ms/step - loss: 0.3123 - accuracy: 0.9414 - val_loss: 0.3638 - val_accuracy: 0.9234\n",
            "Epoch 16/80\n",
            "469/469 [==============================] - 16s 35ms/step - loss: 0.3090 - accuracy: 0.9420 - val_loss: 0.3289 - val_accuracy: 0.9376\n",
            "Epoch 17/80\n",
            "469/469 [==============================] - 16s 35ms/step - loss: 0.3097 - accuracy: 0.9418 - val_loss: 0.3277 - val_accuracy: 0.9380\n",
            "Epoch 18/80\n",
            "469/469 [==============================] - 16s 34ms/step - loss: 0.3042 - accuracy: 0.9428 - val_loss: 0.3608 - val_accuracy: 0.9233\n",
            "Epoch 19/80\n",
            "469/469 [==============================] - 18s 38ms/step - loss: 0.3053 - accuracy: 0.9435 - val_loss: 0.3044 - val_accuracy: 0.9430\n",
            "Epoch 20/80\n",
            "469/469 [==============================] - 19s 40ms/step - loss: 0.3041 - accuracy: 0.9435 - val_loss: 0.3355 - val_accuracy: 0.9313\n",
            "Epoch 21/80\n",
            "469/469 [==============================] - 19s 40ms/step - loss: 0.3058 - accuracy: 0.9427 - val_loss: 0.3330 - val_accuracy: 0.9298\n",
            "Epoch 22/80\n",
            "469/469 [==============================] - 17s 35ms/step - loss: 0.3043 - accuracy: 0.9430 - val_loss: 0.3846 - val_accuracy: 0.9135\n",
            "Epoch 23/80\n",
            "469/469 [==============================] - 16s 34ms/step - loss: 0.3020 - accuracy: 0.9432 - val_loss: 0.3125 - val_accuracy: 0.9425\n",
            "Epoch 24/80\n",
            "469/469 [==============================] - 17s 36ms/step - loss: 0.2989 - accuracy: 0.9436 - val_loss: 0.2915 - val_accuracy: 0.9450\n",
            "Epoch 25/80\n",
            "469/469 [==============================] - 17s 37ms/step - loss: 0.3024 - accuracy: 0.9431 - val_loss: 0.3697 - val_accuracy: 0.9227\n",
            "Epoch 26/80\n",
            "469/469 [==============================] - 17s 36ms/step - loss: 0.3001 - accuracy: 0.9433 - val_loss: 0.3211 - val_accuracy: 0.9396\n",
            "Epoch 27/80\n",
            "469/469 [==============================] - 17s 36ms/step - loss: 0.2947 - accuracy: 0.9460 - val_loss: 0.3997 - val_accuracy: 0.9104\n",
            "Epoch 28/80\n",
            "469/469 [==============================] - 17s 36ms/step - loss: 0.2981 - accuracy: 0.9446 - val_loss: 0.3452 - val_accuracy: 0.9271\n",
            "Epoch 29/80\n",
            "469/469 [==============================] - 16s 35ms/step - loss: 0.2959 - accuracy: 0.9454 - val_loss: 0.3342 - val_accuracy: 0.9345\n",
            "Epoch 30/80\n",
            "469/469 [==============================] - 17s 37ms/step - loss: 0.2941 - accuracy: 0.9459 - val_loss: 0.4032 - val_accuracy: 0.9166\n",
            "Epoch 31/80\n",
            "469/469 [==============================] - 17s 37ms/step - loss: 0.2954 - accuracy: 0.9449 - val_loss: 0.3527 - val_accuracy: 0.9286\n",
            "Epoch 32/80\n",
            "469/469 [==============================] - 17s 35ms/step - loss: 0.2935 - accuracy: 0.9452 - val_loss: 0.3527 - val_accuracy: 0.9260\n",
            "Epoch 33/80\n",
            "469/469 [==============================] - 17s 36ms/step - loss: 0.2940 - accuracy: 0.9450 - val_loss: 0.3855 - val_accuracy: 0.9154\n",
            "Epoch 34/80\n",
            "469/469 [==============================] - 17s 36ms/step - loss: 0.2943 - accuracy: 0.9446 - val_loss: 0.3761 - val_accuracy: 0.9194\n",
            "Epoch 35/80\n",
            "469/469 [==============================] - 17s 37ms/step - loss: 0.2924 - accuracy: 0.9464 - val_loss: 0.3180 - val_accuracy: 0.9366\n",
            "Epoch 36/80\n",
            "469/469 [==============================] - 16s 35ms/step - loss: 0.2943 - accuracy: 0.9444 - val_loss: 0.3056 - val_accuracy: 0.9436\n",
            "Epoch 37/80\n",
            "469/469 [==============================] - 17s 35ms/step - loss: 0.2916 - accuracy: 0.9460 - val_loss: 0.3321 - val_accuracy: 0.9370\n",
            "Epoch 38/80\n",
            "469/469 [==============================] - 17s 37ms/step - loss: 0.2915 - accuracy: 0.9457 - val_loss: 0.3506 - val_accuracy: 0.9265\n",
            "Epoch 39/80\n",
            "469/469 [==============================] - 18s 39ms/step - loss: 0.2924 - accuracy: 0.9453 - val_loss: 0.3465 - val_accuracy: 0.9260\n",
            "Epoch 40/80\n",
            "469/469 [==============================] - 17s 37ms/step - loss: 0.2911 - accuracy: 0.9465 - val_loss: 0.3027 - val_accuracy: 0.9415\n",
            "Epoch 41/80\n",
            "469/469 [==============================] - 17s 36ms/step - loss: 0.2904 - accuracy: 0.9466 - val_loss: 0.4312 - val_accuracy: 0.8942\n",
            "Epoch 42/80\n",
            "469/469 [==============================] - 17s 36ms/step - loss: 0.2902 - accuracy: 0.9460 - val_loss: 0.3188 - val_accuracy: 0.9419\n",
            "Epoch 43/80\n",
            "469/469 [==============================] - 17s 35ms/step - loss: 0.2911 - accuracy: 0.9462 - val_loss: 0.3117 - val_accuracy: 0.9383\n",
            "Epoch 44/80\n",
            "469/469 [==============================] - 17s 36ms/step - loss: 0.2888 - accuracy: 0.9465 - val_loss: 0.2926 - val_accuracy: 0.9462\n",
            "Epoch 45/80\n",
            "469/469 [==============================] - 17s 36ms/step - loss: 0.2898 - accuracy: 0.9461 - val_loss: 0.3419 - val_accuracy: 0.9284\n",
            "Epoch 46/80\n",
            "469/469 [==============================] - 18s 38ms/step - loss: 0.2879 - accuracy: 0.9474 - val_loss: 0.3194 - val_accuracy: 0.9381\n",
            "Epoch 47/80\n",
            "469/469 [==============================] - 18s 38ms/step - loss: 0.2912 - accuracy: 0.9459 - val_loss: 0.2963 - val_accuracy: 0.9449\n",
            "Epoch 48/80\n",
            "469/469 [==============================] - 18s 39ms/step - loss: 0.2904 - accuracy: 0.9466 - val_loss: 0.3352 - val_accuracy: 0.9316\n",
            "Epoch 49/80\n",
            "469/469 [==============================] - 18s 38ms/step - loss: 0.2896 - accuracy: 0.9462 - val_loss: 0.3320 - val_accuracy: 0.9332\n",
            "Epoch 50/80\n",
            "469/469 [==============================] - 17s 36ms/step - loss: 0.2880 - accuracy: 0.9471 - val_loss: 0.3204 - val_accuracy: 0.9383\n",
            "Epoch 51/80\n",
            "469/469 [==============================] - 18s 38ms/step - loss: 0.2889 - accuracy: 0.9468 - val_loss: 0.3839 - val_accuracy: 0.9196\n",
            "Epoch 52/80\n",
            "469/469 [==============================] - 17s 37ms/step - loss: 0.2898 - accuracy: 0.9454 - val_loss: 0.2781 - val_accuracy: 0.9505\n",
            "Epoch 53/80\n",
            "469/469 [==============================] - 17s 37ms/step - loss: 0.2881 - accuracy: 0.9466 - val_loss: 0.3702 - val_accuracy: 0.9193\n",
            "Epoch 54/80\n",
            "469/469 [==============================] - 17s 36ms/step - loss: 0.2874 - accuracy: 0.9467 - val_loss: 0.3575 - val_accuracy: 0.9289\n",
            "Epoch 55/80\n",
            "469/469 [==============================] - 16s 35ms/step - loss: 0.2861 - accuracy: 0.9468 - val_loss: 0.2881 - val_accuracy: 0.9452\n",
            "Epoch 56/80\n",
            "469/469 [==============================] - 17s 36ms/step - loss: 0.2860 - accuracy: 0.9473 - val_loss: 0.3209 - val_accuracy: 0.9394\n",
            "Epoch 57/80\n",
            "469/469 [==============================] - 17s 36ms/step - loss: 0.2867 - accuracy: 0.9461 - val_loss: 0.3195 - val_accuracy: 0.9322\n",
            "Epoch 58/80\n",
            "469/469 [==============================] - 17s 35ms/step - loss: 0.2829 - accuracy: 0.9477 - val_loss: 0.3342 - val_accuracy: 0.9319\n",
            "Epoch 59/80\n",
            "469/469 [==============================] - 16s 35ms/step - loss: 0.2853 - accuracy: 0.9470 - val_loss: 0.3734 - val_accuracy: 0.9203\n",
            "Epoch 60/80\n",
            "469/469 [==============================] - 16s 35ms/step - loss: 0.2868 - accuracy: 0.9464 - val_loss: 0.4134 - val_accuracy: 0.9072\n",
            "Epoch 61/80\n",
            "469/469 [==============================] - 16s 34ms/step - loss: 0.2866 - accuracy: 0.9466 - val_loss: 0.3920 - val_accuracy: 0.9119\n",
            "Epoch 62/80\n",
            "469/469 [==============================] - 16s 35ms/step - loss: 0.2866 - accuracy: 0.9466 - val_loss: 0.3027 - val_accuracy: 0.9409\n",
            "Epoch 63/80\n",
            "469/469 [==============================] - 17s 35ms/step - loss: 0.2855 - accuracy: 0.9468 - val_loss: 0.3180 - val_accuracy: 0.9328\n",
            "Epoch 64/80\n",
            "469/469 [==============================] - 16s 35ms/step - loss: 0.2857 - accuracy: 0.9471 - val_loss: 0.3685 - val_accuracy: 0.9199\n",
            "Epoch 65/80\n",
            "469/469 [==============================] - 16s 35ms/step - loss: 0.2861 - accuracy: 0.9462 - val_loss: 0.4034 - val_accuracy: 0.9096\n",
            "Epoch 66/80\n",
            "469/469 [==============================] - 17s 37ms/step - loss: 0.2853 - accuracy: 0.9475 - val_loss: 0.3060 - val_accuracy: 0.9400\n",
            "Epoch 67/80\n",
            "469/469 [==============================] - 17s 35ms/step - loss: 0.2852 - accuracy: 0.9467 - val_loss: 0.4674 - val_accuracy: 0.8923\n",
            "Epoch 68/80\n",
            "469/469 [==============================] - 16s 35ms/step - loss: 0.2856 - accuracy: 0.9475 - val_loss: 0.3150 - val_accuracy: 0.9365\n",
            "Epoch 69/80\n",
            "469/469 [==============================] - 17s 37ms/step - loss: 0.2848 - accuracy: 0.9474 - val_loss: 0.3521 - val_accuracy: 0.9251\n",
            "Epoch 70/80\n",
            "469/469 [==============================] - 17s 36ms/step - loss: 0.2843 - accuracy: 0.9471 - val_loss: 0.3157 - val_accuracy: 0.9362\n",
            "Epoch 71/80\n",
            "469/469 [==============================] - 17s 36ms/step - loss: 0.2842 - accuracy: 0.9466 - val_loss: 0.3602 - val_accuracy: 0.9256\n",
            "Epoch 72/80\n",
            "469/469 [==============================] - 17s 35ms/step - loss: 0.2859 - accuracy: 0.9466 - val_loss: 0.3102 - val_accuracy: 0.9403\n",
            "Epoch 73/80\n",
            "469/469 [==============================] - 17s 37ms/step - loss: 0.2838 - accuracy: 0.9477 - val_loss: 0.3783 - val_accuracy: 0.9188\n",
            "Epoch 74/80\n",
            "469/469 [==============================] - 17s 37ms/step - loss: 0.2855 - accuracy: 0.9471 - val_loss: 0.3447 - val_accuracy: 0.9251\n",
            "Epoch 75/80\n",
            "469/469 [==============================] - 17s 37ms/step - loss: 0.2846 - accuracy: 0.9467 - val_loss: 0.2860 - val_accuracy: 0.9472\n",
            "Epoch 76/80\n",
            "469/469 [==============================] - 17s 37ms/step - loss: 0.2833 - accuracy: 0.9470 - val_loss: 0.4944 - val_accuracy: 0.8853\n",
            "Epoch 77/80\n",
            "469/469 [==============================] - 17s 36ms/step - loss: 0.2834 - accuracy: 0.9470 - val_loss: 0.3144 - val_accuracy: 0.9395\n",
            "Epoch 78/80\n",
            "469/469 [==============================] - 16s 35ms/step - loss: 0.2829 - accuracy: 0.9473 - val_loss: 0.2759 - val_accuracy: 0.9511\n",
            "Epoch 79/80\n",
            "469/469 [==============================] - 16s 35ms/step - loss: 0.2842 - accuracy: 0.9474 - val_loss: 0.3720 - val_accuracy: 0.9210\n",
            "Epoch 80/80\n",
            "469/469 [==============================] - 16s 34ms/step - loss: 0.2825 - accuracy: 0.9470 - val_loss: 0.3669 - val_accuracy: 0.9197\n"
          ]
        },
        {
          "output_type": "display_data",
          "data": {
            "text/plain": [
              "<Figure size 432x288 with 1 Axes>"
            ],
            "image/png": "[encoded data removed]"
          },
          "metadata": {}
        },
        {
          "output_type": "display_data",
          "data": {
            "text/plain": [
              "<Figure size 432x288 with 1 Axes>"
            ],
            "image/png": "[encoded data removed]"
          },
          "metadata": {}
        }
      ],
      "source": [
        "## Your code goes here\n",
        "\n",
        "# 1. Start with the model specification you used for Exercise 5-7, change the \n",
        "#    model name to nnbr.\n",
        "\n",
        "nnbr = models.Sequential()\n",
        "nnbr.add(layers.Dense(28 * 28, activation = \"relu\", input_shape = (28 * 28, ), kernel_regularizer = regularizers.l2(0.1)))\n",
        "\n",
        "\n",
        "# 3. To limit the total bias in the model, change the l2 regularization \n",
        "#    hyperparameter argument for the dense layer to 0.05.\n",
        "\n",
        "nnbr.add(layers.Dense(512, activation = \"relu\", kernel_regularizer = regularizers.l2(0.05)))\n",
        "\n",
        "\n",
        "# 2. After the 512 unit hidden dense layer add a BatchNormalization layer, using \n",
        "#    the argument momentum = 0.998.\n",
        "\n",
        "nnbr.add(layers.BatchNormalization(momentum = 0.998))\n",
        "\n",
        "\n",
        "# 4. Compile the model.\n",
        "\n",
        "nnbr.add(layers.Dense(len(train_labels[0]), activation = \"softmax\"))\n",
        "nnbr.compile(optimizer = \"rmsprop\", loss = 'categorical_crossentropy', metrics = ['accuracy'])\n",
        "\n",
        "\n",
        "# 5. Fit the model for 80 epochs, saving the history object. This will take some time!\n",
        "\n",
        "history_nnbr = nnbr.fit(train_images, train_labels, batch_size = 128, epochs = 80, validation_data = (test_images, test_labels))\n",
        "\n",
        "\n",
        "# 6. Plot the training and test loss and accuracy.\n",
        "\n",
        "plot_loss(history_nnbr)\n",
        "plot_accuracy(history_nnbr)"
      ]
    },
    {
      "cell_type": "markdown",
      "metadata": {
        "id": "_HJrSKIXvWn9"
      },
      "source": [
        "> Compare the graphs to the train and test loss and train and test accuracy to the foregoing model without the batch normalization. What does the difference in smoothness, especially for the test accuracy, tell you about the change in behavior of the gradient?   "
      ]
    },
    {
      "cell_type": "markdown",
      "metadata": {
        "id": "_wOdq-AnvWn9"
      },
      "source": [
        "> **Answer:**       \n",
        "\n",
        "> nnbr model has a much better behavior compared with unregularized model. Now, both accuracy and loss have some variability but its ceiling (or floor) is the results for training, which makes total sense. Not only accuracy is smoother but also loss has little variability. Since both values oscilate within a small range, this results indicate that the change in behavior of the gradient is mostly uniform solving the problem with good generalization."
      ]
    },
    {
      "cell_type": "markdown",
      "metadata": {
        "id": "y6kpjaQYvWn9"
      },
      "source": [
        "##### Copyright 2018, 2019, 2020, 2021, 2022, 2023, Stephen F Elston. All rights reserved"
      ]
    },
    {
      "cell_type": "code",
      "execution_count": null,
      "metadata": {
        "id": "zDqMZm6EvWn9"
      },
      "outputs": [],
      "source": []
    }
  ],
  "metadata": {
    "anaconda-cloud": {},
    "kernelspec": {
      "display_name": "Python 3 (ipykernel)",
      "language": "python",
      "name": "python3"
    },
    "language_info": {
      "codemirror_mode": {
        "name": "ipython",
        "version": 3
      },
      "file_extension": ".py",
      "mimetype": "text/x-python",
      "name": "python",
      "nbconvert_exporter": "python",
      "pygments_lexer": "ipython3",
      "version": "3.9.13"
    },
    "colab": {
      "provenance": []
    },
    "accelerator": "TPU",
    "gpuClass": "standard"
  },
  "nbformat": 4,
  "nbformat_minor": 0
}