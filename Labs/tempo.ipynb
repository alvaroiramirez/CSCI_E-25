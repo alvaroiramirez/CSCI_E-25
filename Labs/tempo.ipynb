{
 "cells": [
  {
   "cell_type": "code",
   "execution_count": null,
   "metadata": {},
   "outputs": [],
   "source": [
    "def plot_conv(series, conv, span):\n",
    "    x = list(range(series.shape[0]))\n",
    "    offset = int((span-1)/2)\n",
    "    end = series.shape[0] - offset\n",
    "    plt.plot(x, series, label = 'Original series')\n",
    "    plt.plot(x[offset:end], conv, color = 'red', label = 'Convolution result')\n",
    "    plt.legend()\n",
    "    plt.xlabel('Index')\n",
    "    plt.ylabel('Value')\n",
    "    plt.title('Series of raw values and convolution')\n",
    "    plt.show()\n",
    "\n",
    "np.random.seed(12233)\n",
    "series = np.concatenate((np.random.normal(size = 40), np.random.normal(size = 40) + 2.0))  \n",
    "\n",
    "\n",
    "## Complete the function below\n",
    "def conv_1d(series, kernel):\n",
    "    '''Performs simple 1d convolution over the series values\n",
    "    given the kernel weights. This function only works for \n",
    "    kernels with odd span'''\n",
    "    \n",
    "    results = []\n",
    "    \n",
    "    a = len(kernel) - 1\n",
    "    [results.append(np.dot(kernel, series[i : i + len(kernel)])) for i in range(len(series) - a)]\n",
    "    \n",
    "    return results\n",
    "\n",
    "\n",
    "kernel1 = np.array([0.333, 0.333, 0.333])\n",
    "result1 = conv_1d(series, kernel1)\n",
    "print('Length of result1 = ' + str(len(result1)))\n",
    "plot_conv(series, result1, 3)    \n",
    "\n",
    "kernel2 = np.array([0.05, 0.242, 0.399, 0.242, 0.05])\n",
    "result2 = conv_1d(series, kernel2)\n",
    "print('Length of result2 = ' + str(len(result2)))\n",
    "plot_conv(series, result2, 5)   "
   ]
  }
 ],
 "metadata": {
  "kernelspec": {
   "display_name": "Python 3",
   "language": "python",
   "name": "python3"
  },
  "language_info": {
   "name": "python",
   "version": "3.11.1"
  },
  "orig_nbformat": 4,
  "vscode": {
   "interpreter": {
    "hash": "aee8b7b246df8f9039afb4144a1f6fd8d2ca17a180786b69acc140d282b71a49"
   }
  }
 },
 "nbformat": 4,
 "nbformat_minor": 2
}
