{
  "cells": [
    {
      "cell_type": "markdown",
      "metadata": {
        "id": "ZjTvhlLCA8dp"
      },
      "source": [
        "# Conditional GAN\n",
        "\n",
        "**Author:** [Sayak Paul](https://twitter.com/RisingSayak)<br>\n",
        "**Date created:** 2021/07/13<br>\n",
        "**Last modified:** 2021/07/15<br>\n",
        "**Description:** Training a GAN conditioned on class labels to generate handwritten digits."
      ]
    },
    {
      "cell_type": "markdown",
      "metadata": {
        "id": "twd6PJfRA8dr"
      },
      "source": [
        "Generative Adversarial Networks (GANs) let us generate novel image data, video data,\n",
        "or audio data from a random input. Typically, the random input is sampled\n",
        "from a normal distribution, before going through a series of transformations that turn\n",
        "it into something plausible (image, video, audio, etc.).\n",
        "\n",
        "However, a simple [DCGAN](https://arxiv.org/abs/1511.06434) doesn't let us control\n",
        "the appearance (e.g. class) of the samples we're generating. For instance,\n",
        "with a GAN that generates MNIST handwritten digits, a simple DCGAN wouldn't let us\n",
        "choose the class of digits we're generating.\n",
        "To be able to control what we generate, we need to _condition_ the GAN output\n",
        "on a semantic input, such as the class of an image.\n",
        "\n",
        "In this example, we'll build a **Conditional GAN** that can generate MNIST handwritten\n",
        "digits conditioned on a given class. Such a model can have various useful applications:\n",
        "\n",
        "* let's say you are dealing with an\n",
        "[imbalanced image dataset](https://developers.google.com/machine-learning/data-prep/construct/sampling-splitting/imbalanced-data),\n",
        "and you'd like to gather more examples for the skewed class to balance the dataset.\n",
        "Data collection can be a costly process on its own. You could instead train a Conditional GAN and use\n",
        "it to generate novel images for the class that needs balancing.\n",
        "* Since the generator learns to associate the generated samples with the class labels,\n",
        "its representations can also be used for [other downstream tasks](https://arxiv.org/abs/1809.11096).\n",
        "\n",
        "Following are the references used for developing this example:\n",
        "\n",
        "* [Conditional Generative Adversarial Nets](https://arxiv.org/abs/1411.1784)\n",
        "* [Lecture on Conditional Generation from Coursera](https://www.coursera.org/lecture/build-basic-generative-adversarial-networks-gans/conditional-generation-inputs-2OPrG)\n",
        "\n",
        "If you need a refresher on GANs, you can refer to the \"Generative adversarial networks\"\n",
        "section of\n",
        "[this resource](https://livebook.manning.com/book/deep-learning-with-python-second-edition/chapter-12/r-3/232).\n",
        "\n",
        "This example requires TensorFlow 2.5 or higher, as well as TensorFlow Docs, which can be\n",
        "installed using the following command:"
      ]
    },
    {
      "cell_type": "code",
      "execution_count": 9,
      "metadata": {
        "id": "wgjH68UiA8dr"
      },
      "outputs": [],
      "source": [
        "# !pip install -q git+https://github.com/tensorflow/docs"
      ]
    },
    {
      "cell_type": "markdown",
      "metadata": {
        "id": "AWnRnCRrA8ds"
      },
      "source": [
        "## Imports"
      ]
    },
    {
      "cell_type": "code",
      "execution_count": 10,
      "metadata": {
        "id": "mJCFBK2TA8ds"
      },
      "outputs": [],
      "source": [
        "from tensorflow import keras\n",
        "from tensorflow.keras import layers\n",
        "\n",
        "from tensorflow_docs.vis import embed\n",
        "import matplotlib.pyplot as plt\n",
        "import tensorflow as tf\n",
        "import numpy as np\n",
        "import imageio"
      ]
    },
    {
      "cell_type": "markdown",
      "metadata": {
        "id": "btXdqMzQA8ds"
      },
      "source": [
        "## Constants and hyperparameters"
      ]
    },
    {
      "cell_type": "code",
      "execution_count": 11,
      "metadata": {
        "id": "c6_iCtQSA8ds"
      },
      "outputs": [],
      "source": [
        "batch_size = 64\n",
        "num_channels = 1\n",
        "num_classes = 10\n",
        "image_size = 28\n",
        "latent_dim = 128"
      ]
    },
    {
      "cell_type": "markdown",
      "metadata": {
        "id": "pMaw0fJMA8ds"
      },
      "source": [
        "## Loading the MNIST dataset and preprocessing it"
      ]
    },
    {
      "cell_type": "code",
      "execution_count": 12,
      "metadata": {
        "colab": {
          "base_uri": "https://localhost:8080/"
        },
        "id": "q6rYN5ESA8ds",
        "outputId": "16070379-95db-4f23-8b7f-c71bd3ef1e31"
      },
      "outputs": [
        {
          "output_type": "stream",
          "name": "stdout",
          "text": [
            "Shape of training images: (70000, 28, 28, 1)\n",
            "Shape of training labels: (70000, 10)\n"
          ]
        }
      ],
      "source": [
        "# We'll use all the available examples from both the training and test\n",
        "# sets.\n",
        "(x_train, y_train), (x_test, y_test) = keras.datasets.mnist.load_data()\n",
        "all_digits = np.concatenate([x_train, x_test])\n",
        "all_labels = np.concatenate([y_train, y_test])\n",
        "\n",
        "# Scale the pixel values to [0, 1] range, add a channel dimension to\n",
        "# the images, and one-hot encode the labels.\n",
        "all_digits = all_digits.astype(\"float32\") / 255.0\n",
        "all_digits = np.reshape(all_digits, (-1, 28, 28, 1))\n",
        "all_labels = keras.utils.to_categorical(all_labels, 10)\n",
        "\n",
        "# Create tf.data.Dataset.\n",
        "dataset = tf.data.Dataset.from_tensor_slices((all_digits, all_labels))\n",
        "dataset = dataset.shuffle(buffer_size=1024).batch(batch_size)\n",
        "\n",
        "print(f\"Shape of training images: {all_digits.shape}\")\n",
        "print(f\"Shape of training labels: {all_labels.shape}\")"
      ]
    },
    {
      "cell_type": "markdown",
      "metadata": {
        "id": "1A3go6DhA8dt"
      },
      "source": [
        "## Calculating the number of input channel for the generator and discriminator\n",
        "\n",
        "In a regular (unconditional) GAN, we start by sampling noise (of some fixed\n",
        "dimension) from a normal distribution. In our case, we also need to account\n",
        "for the class labels. We will have to add the number of classes to\n",
        "the input channels of the generator (noise input) as well as the discriminator\n",
        "(generated image input)."
      ]
    },
    {
      "cell_type": "code",
      "execution_count": 13,
      "metadata": {
        "colab": {
          "base_uri": "https://localhost:8080/"
        },
        "id": "rJSxZHkYA8dt",
        "outputId": "ced44cbd-17ee-4f3c-ad91-0aa0bd4db861"
      },
      "outputs": [
        {
          "output_type": "stream",
          "name": "stdout",
          "text": [
            "138 11\n"
          ]
        }
      ],
      "source": [
        "generator_in_channels = latent_dim + num_classes\n",
        "discriminator_in_channels = num_channels + num_classes\n",
        "print(generator_in_channels, discriminator_in_channels)"
      ]
    },
    {
      "cell_type": "markdown",
      "metadata": {
        "id": "eDBZ95_QA8dt"
      },
      "source": [
        "## Creating the discriminator and generator\n",
        "\n",
        "The model definitions (`discriminator`, `generator`, and `ConditionalGAN`) have been\n",
        "adapted from [this example](https://keras.io/guides/customizing_what_happens_in_fit/)."
      ]
    },
    {
      "cell_type": "code",
      "execution_count": 14,
      "metadata": {
        "id": "wXjsUMqwA8dt"
      },
      "outputs": [],
      "source": [
        "# Create the discriminator.\n",
        "discriminator = keras.Sequential(\n",
        "    [\n",
        "        keras.layers.InputLayer((28, 28, discriminator_in_channels)),\n",
        "        layers.Conv2D(64, (3, 3), strides=(2, 2), padding=\"same\"),\n",
        "        layers.LeakyReLU(alpha=0.2),\n",
        "        layers.Conv2D(128, (3, 3), strides=(2, 2), padding=\"same\"),\n",
        "        layers.LeakyReLU(alpha=0.2),\n",
        "        layers.GlobalMaxPooling2D(),\n",
        "        layers.Dense(1),\n",
        "    ],\n",
        "    name=\"discriminator\",\n",
        ")\n",
        "\n",
        "# Create the generator.\n",
        "generator = keras.Sequential(\n",
        "    [\n",
        "        keras.layers.InputLayer((generator_in_channels,)),\n",
        "        # We want to generate 128 + num_classes coefficients to reshape into a\n",
        "        # 7x7x(128 + num_classes) map.\n",
        "        layers.Dense(7 * 7 * generator_in_channels),\n",
        "        layers.LeakyReLU(alpha=0.2),\n",
        "        layers.Reshape((7, 7, generator_in_channels)),\n",
        "        layers.Conv2DTranspose(128, (4, 4), strides=(2, 2), padding=\"same\"),\n",
        "        layers.LeakyReLU(alpha=0.2),\n",
        "        layers.Conv2DTranspose(128, (4, 4), strides=(2, 2), padding=\"same\"),\n",
        "        layers.LeakyReLU(alpha=0.2),\n",
        "        layers.Conv2D(1, (7, 7), padding=\"same\", activation=\"sigmoid\"),\n",
        "    ],\n",
        "    name=\"generator\",\n",
        ")"
      ]
    },
    {
      "cell_type": "markdown",
      "metadata": {
        "id": "VfplyVZUA8dt"
      },
      "source": [
        "## Creating a `ConditionalGAN` model"
      ]
    },
    {
      "cell_type": "code",
      "execution_count": 15,
      "metadata": {
        "id": "9ls-6NtmA8dt"
      },
      "outputs": [],
      "source": [
        "\n",
        "class ConditionalGAN(keras.Model):\n",
        "    def __init__(self, discriminator, generator, latent_dim):\n",
        "        super().__init__()\n",
        "        self.discriminator = discriminator\n",
        "        self.generator = generator\n",
        "        self.latent_dim = latent_dim\n",
        "        self.gen_loss_tracker = keras.metrics.Mean(name=\"generator_loss\")\n",
        "        self.disc_loss_tracker = keras.metrics.Mean(name=\"discriminator_loss\")\n",
        "\n",
        "    @property\n",
        "    def metrics(self):\n",
        "        return [self.gen_loss_tracker, self.disc_loss_tracker]\n",
        "\n",
        "    def compile(self, d_optimizer, g_optimizer, loss_fn):\n",
        "        super().compile()\n",
        "        self.d_optimizer = d_optimizer\n",
        "        self.g_optimizer = g_optimizer\n",
        "        self.loss_fn = loss_fn\n",
        "\n",
        "    def train_step(self, data):\n",
        "        # Unpack the data.\n",
        "        real_images, one_hot_labels = data\n",
        "        \n",
        "        # Add dummy dimensions to the labels so that they can be concatenated with\n",
        "        # the images. This is for the discriminator.\n",
        "        image_one_hot_labels = one_hot_labels[:, :, None, None]\n",
        "        image_one_hot_labels = tf.repeat(\n",
        "            image_one_hot_labels, repeats=[image_size * image_size]\n",
        "        )\n",
        "        image_one_hot_labels = tf.reshape(\n",
        "            image_one_hot_labels, (-1, image_size, image_size, num_classes)\n",
        "        )\n",
        "\n",
        "        # Sample random points in the latent space and concatenate the labels.\n",
        "        # This is for the generator.\n",
        "        batch_size = tf.shape(real_images)[0]\n",
        "        random_latent_vectors = tf.random.normal(shape=(batch_size, self.latent_dim))\n",
        "        random_vector_labels = tf.concat(\n",
        "            [random_latent_vectors, one_hot_labels], axis=1\n",
        "        )\n",
        "\n",
        "        # Decode the noise (guided by labels) to fake images.\n",
        "        generated_images = self.generator(random_vector_labels)\n",
        "\n",
        "        # Combine them with real images. Note that we are concatenating the labels\n",
        "        # with these images here.\n",
        "        fake_image_and_labels = tf.concat([generated_images, image_one_hot_labels], -1)\n",
        "        real_image_and_labels = tf.concat([real_images, image_one_hot_labels], -1)\n",
        "        combined_images = tf.concat(\n",
        "            [fake_image_and_labels, real_image_and_labels], axis=0\n",
        "        )\n",
        "\n",
        "        # Assemble labels discriminating real from fake images.\n",
        "        labels = tf.concat(\n",
        "            [tf.ones((batch_size, 1)), tf.zeros((batch_size, 1))], axis=0\n",
        "        )\n",
        "\n",
        "        # Train the discriminator.\n",
        "        with tf.GradientTape() as tape:\n",
        "            predictions = self.discriminator(combined_images)\n",
        "            d_loss = self.loss_fn(labels, predictions)\n",
        "        grads = tape.gradient(d_loss, self.discriminator.trainable_weights)\n",
        "        self.d_optimizer.apply_gradients(\n",
        "            zip(grads, self.discriminator.trainable_weights)\n",
        "        )\n",
        "\n",
        "        # Sample random points in the latent space.\n",
        "        random_latent_vectors = tf.random.normal(shape=(batch_size, self.latent_dim))\n",
        "        random_vector_labels = tf.concat(\n",
        "            [random_latent_vectors, one_hot_labels], axis=1\n",
        "        )\n",
        "\n",
        "        # Assemble labels that say \"all real images\".\n",
        "        misleading_labels = tf.zeros((batch_size, 1))\n",
        "\n",
        "        # Train the generator (note that we should *not* update the weights\n",
        "        # of the discriminator)!\n",
        "        with tf.GradientTape() as tape:\n",
        "            fake_images = self.generator(random_vector_labels)\n",
        "            fake_image_and_labels = tf.concat([fake_images, image_one_hot_labels], -1)\n",
        "            predictions = self.discriminator(fake_image_and_labels)\n",
        "            g_loss = self.loss_fn(misleading_labels, predictions)\n",
        "        grads = tape.gradient(g_loss, self.generator.trainable_weights)\n",
        "        self.g_optimizer.apply_gradients(zip(grads, self.generator.trainable_weights))\n",
        "\n",
        "        # Monitor loss.\n",
        "        self.gen_loss_tracker.update_state(g_loss)\n",
        "        self.disc_loss_tracker.update_state(d_loss)\n",
        "        return {\n",
        "            \"g_loss\": self.gen_loss_tracker.result(),\n",
        "            \"d_loss\": self.disc_loss_tracker.result(),\n",
        "        }\n"
      ]
    },
    {
      "cell_type": "markdown",
      "metadata": {
        "id": "TEzWPvl1A8dt"
      },
      "source": [
        "## Training the Conditional GAN"
      ]
    },
    {
      "cell_type": "code",
      "execution_count": 16,
      "metadata": {
        "colab": {
          "base_uri": "https://localhost:8080/"
        },
        "id": "K1hJF025A8dt",
        "outputId": "8044afd1-2264-41fe-ad40-6d1fe4f74047"
      },
      "outputs": [
        {
          "output_type": "stream",
          "name": "stdout",
          "text": [
            "Epoch 1/30\n",
            "1094/1094 [==============================] - 50s 27ms/step - g_loss: 1.6257 - d_loss: 0.4162\n",
            "Epoch 2/30\n",
            "1094/1094 [==============================] - 29s 27ms/step - g_loss: 1.3444 - d_loss: 0.4868\n",
            "Epoch 3/30\n",
            "1094/1094 [==============================] - 30s 27ms/step - g_loss: 1.5262 - d_loss: 0.4146\n",
            "Epoch 4/30\n",
            "1094/1094 [==============================] - 30s 27ms/step - g_loss: 2.0994 - d_loss: 0.2505\n",
            "Epoch 5/30\n",
            "1094/1094 [==============================] - 30s 28ms/step - g_loss: 1.1170 - d_loss: 0.5930\n",
            "Epoch 6/30\n",
            "1094/1094 [==============================] - 30s 27ms/step - g_loss: 0.9823 - d_loss: 0.6174\n",
            "Epoch 7/30\n",
            "1094/1094 [==============================] - 30s 27ms/step - g_loss: 0.9027 - d_loss: 0.6493\n",
            "Epoch 8/30\n",
            "1094/1094 [==============================] - 30s 28ms/step - g_loss: 0.8601 - d_loss: 0.6588\n",
            "Epoch 9/30\n",
            "1094/1094 [==============================] - 30s 28ms/step - g_loss: 0.8343 - d_loss: 0.6636\n",
            "Epoch 10/30\n",
            "1094/1094 [==============================] - 30s 28ms/step - g_loss: 0.8245 - d_loss: 0.6685\n",
            "Epoch 11/30\n",
            "1094/1094 [==============================] - 31s 28ms/step - g_loss: 0.7966 - d_loss: 0.6665\n",
            "Epoch 12/30\n",
            "1094/1094 [==============================] - 30s 28ms/step - g_loss: 0.7898 - d_loss: 0.6723\n",
            "Epoch 13/30\n",
            "1094/1094 [==============================] - 30s 28ms/step - g_loss: 0.7809 - d_loss: 0.6737\n",
            "Epoch 14/30\n",
            "1094/1094 [==============================] - 31s 28ms/step - g_loss: 0.7780 - d_loss: 0.6744\n",
            "Epoch 15/30\n",
            "1094/1094 [==============================] - 31s 28ms/step - g_loss: 0.7563 - d_loss: 0.6844\n",
            "Epoch 16/30\n",
            "1094/1094 [==============================] - 30s 28ms/step - g_loss: 0.7770 - d_loss: 0.6737\n",
            "Epoch 17/30\n",
            "1094/1094 [==============================] - 30s 28ms/step - g_loss: 0.7765 - d_loss: 0.6704\n",
            "Epoch 18/30\n",
            "1094/1094 [==============================] - 30s 28ms/step - g_loss: 0.7735 - d_loss: 0.6699\n",
            "Epoch 19/30\n",
            "1094/1094 [==============================] - 30s 28ms/step - g_loss: 0.7903 - d_loss: 0.6654\n",
            "Epoch 20/30\n",
            "1094/1094 [==============================] - 31s 29ms/step - g_loss: 0.7886 - d_loss: 0.6612\n",
            "Epoch 21/30\n",
            "1094/1094 [==============================] - 30s 28ms/step - g_loss: 0.8023 - d_loss: 0.6544\n",
            "Epoch 22/30\n",
            "1094/1094 [==============================] - 30s 28ms/step - g_loss: 0.8046 - d_loss: 0.6490\n",
            "Epoch 23/30\n",
            "1094/1094 [==============================] - 31s 29ms/step - g_loss: 0.8148 - d_loss: 0.6455\n",
            "Epoch 24/30\n",
            "1094/1094 [==============================] - 31s 28ms/step - g_loss: 0.8199 - d_loss: 0.6395\n",
            "Epoch 25/30\n",
            "1094/1094 [==============================] - 31s 28ms/step - g_loss: 0.8144 - d_loss: 0.6390\n",
            "Epoch 26/30\n",
            "1094/1094 [==============================] - 31s 28ms/step - g_loss: 0.8141 - d_loss: 0.6419\n",
            "Epoch 27/30\n",
            "1094/1094 [==============================] - 30s 28ms/step - g_loss: 0.7989 - d_loss: 0.6484\n",
            "Epoch 28/30\n",
            "1094/1094 [==============================] - 30s 28ms/step - g_loss: 0.7925 - d_loss: 0.6548\n",
            "Epoch 29/30\n",
            "1094/1094 [==============================] - 30s 28ms/step - g_loss: 0.7865 - d_loss: 0.6587\n",
            "Epoch 30/30\n",
            "1094/1094 [==============================] - 30s 28ms/step - g_loss: 0.7794 - d_loss: 0.6635\n"
          ]
        }
      ],
      "source": [
        "np.random.seed(4352)\n",
        "\n",
        "cond_gan = ConditionalGAN(\n",
        "    discriminator=discriminator, generator=generator, latent_dim=latent_dim\n",
        ")\n",
        "cond_gan.compile(\n",
        "    d_optimizer=keras.optimizers.Adam(learning_rate=0.0003),\n",
        "    g_optimizer=keras.optimizers.Adam(learning_rate=0.0003),\n",
        "    loss_fn=keras.losses.BinaryCrossentropy(from_logits=True),\n",
        ")\n",
        "\n",
        "history = cond_gan.fit(dataset, epochs=30)"
      ]
    },
    {
      "cell_type": "code",
      "source": [
        "import matplotlib.pyplot as plt    \n",
        "_, ax = plt.subplots(figsize=(8,8))\n",
        "ax.plot(history.epoch, history.history['d_loss'], label='Discriminator')\n",
        "ax.plot(history.epoch, history.history['g_loss'], label='Generator')\n",
        "ax.set_title('Discriminator and generator loss vs. epoch')\n",
        "ax.set_ylabel('Loss')\n",
        "ax.set_xlabel('Epoch')\n",
        "plt.legend()"
      ],
      "metadata": {
        "colab": {
          "base_uri": "https://localhost:8080/",
          "height": 735
        },
        "id": "3mDUn1z5DD3n",
        "outputId": "5ba870fe-c762-4ead-cdac-59641be01634"
      },
      "execution_count": 17,
      "outputs": [
        {
          "output_type": "execute_result",
          "data": {
            "text/plain": [
              "<matplotlib.legend.Legend at 0x7f41ba77fe50>"
            ]
          },
          "metadata": {},
          "execution_count": 17
        },
        {
          "output_type": "display_data",
          "data": {
            "text/plain": [
              "<Figure size 800x800 with 1 Axes>"
            ],
            "image/png": "[encoded data removed]"
          },
          "metadata": {}
        }
      ]
    },
    {
      "cell_type": "markdown",
      "metadata": {
        "id": "7nSj3NdwA8du"
      },
      "source": [
        "## Interpolating between classes with the trained generator"
      ]
    },
    {
      "cell_type": "code",
      "execution_count": 18,
      "metadata": {
        "colab": {
          "base_uri": "https://localhost:8080/"
        },
        "id": "GFiGWMnzA8du",
        "outputId": "e3c0349d-86d9-4a5d-8aff-0bfe0edf3cd9"
      },
      "outputs": [
        {
          "output_type": "stream",
          "name": "stdout",
          "text": [
            "1/1 [==============================] - 0s 390ms/step\n"
          ]
        }
      ],
      "source": [
        "# We first extract the trained generator from our Conditiona GAN.\n",
        "trained_gen = cond_gan.generator\n",
        "\n",
        "# Choose the number of intermediate images that would be generated in\n",
        "# between the interpolation + 2 (start and last images).\n",
        "num_interpolation = 9  # @param {type:\"integer\"}\n",
        "\n",
        "# Sample noise for the interpolation.\n",
        "interpolation_noise = tf.random.normal(shape=(1, latent_dim))\n",
        "interpolation_noise = tf.repeat(interpolation_noise, repeats=num_interpolation)\n",
        "interpolation_noise = tf.reshape(interpolation_noise, (num_interpolation, latent_dim))\n",
        "\n",
        "\n",
        "def interpolate_class(first_number, second_number):\n",
        "    # Convert the start and end labels to one-hot encoded vectors.\n",
        "    first_label = keras.utils.to_categorical([first_number], num_classes)\n",
        "    second_label = keras.utils.to_categorical([second_number], num_classes)\n",
        "    first_label = tf.cast(first_label, tf.float32)\n",
        "    second_label = tf.cast(second_label, tf.float32)\n",
        "\n",
        "    # Calculate the interpolation vector between the two labels.\n",
        "    percent_second_label = tf.linspace(0, 1, num_interpolation)[:, None]\n",
        "    percent_second_label = tf.cast(percent_second_label, tf.float32)\n",
        "    interpolation_labels = (\n",
        "        first_label * (1 - percent_second_label) + second_label * percent_second_label\n",
        "    )\n",
        "\n",
        "    # Combine the noise and the labels and run inference with the generator.\n",
        "    noise_and_labels = tf.concat([interpolation_noise, interpolation_labels], 1)\n",
        "    fake = trained_gen.predict(noise_and_labels)\n",
        "    return fake\n",
        "\n",
        "\n",
        "start_class = 1  # @param {type:\"slider\", min:0, max:9, step:1}\n",
        "end_class = 5  # @param {type:\"slider\", min:0, max:9, step:1}\n",
        "\n",
        "fake_images = interpolate_class(start_class, end_class)"
      ]
    },
    {
      "cell_type": "markdown",
      "metadata": {
        "id": "-wsfRETsA8du"
      },
      "source": [
        "Here, we first sample noise from a normal distribution and then we repeat that for\n",
        "`num_interpolation` times and reshape the result accordingly.\n",
        "We then distribute it uniformly for `num_interpolation`\n",
        "with the label indentities being present in some proportion."
      ]
    },
    {
      "cell_type": "code",
      "execution_count": 19,
      "metadata": {
        "colab": {
          "base_uri": "https://localhost:8080/",
          "height": 117
        },
        "id": "gwvLgfu9A8du",
        "outputId": "90eea36d-e38f-4c95-f3da-0123fcb17262"
      },
      "outputs": [
        {
          "output_type": "execute_result",
          "data": {
            "text/plain": [
              "<IPython.core.display.HTML object>"
            ],
            "text/html": [
              "<img src=\"data:image/gif;base64,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\"/>"
            ]
          },
          "metadata": {},
          "execution_count": 19
        }
      ],
      "source": [
        "fake_images *= 255.0\n",
        "converted_images = fake_images.astype(np.uint8)\n",
        "converted_images = tf.image.resize(converted_images, (96, 96)).numpy().astype(np.uint8)\n",
        "imageio.mimsave(\"animation.gif\", converted_images, fps=1)\n",
        "embed.embed_file(\"animation.gif\")"
      ]
    },
    {
      "cell_type": "markdown",
      "metadata": {
        "id": "fgUz-1hBA8du"
      },
      "source": [
        "We can further improve the performance of this model with recipes like\n",
        "[WGAN-GP](https://keras.io/examples/generative/wgan_gp).\n",
        "Conditional generation is also widely used in many modern image generation architectures like\n",
        "[VQ-GANs](https://arxiv.org/abs/2012.09841), [DALL-E](https://openai.com/blog/dall-e/),\n",
        "etc.\n",
        "\n",
        "You can use the trained model hosted on [Hugging Face Hub](https://huggingface.co/keras-io/conditional-gan) and try the demo on [Hugging Face Spaces](https://huggingface.co/spaces/keras-io/conditional-GAN)."
      ]
    }
  ],
  "metadata": {
    "accelerator": "GPU",
    "colab": {
      "name": "conditional_gan",
      "provenance": [],
      "toc_visible": true
    },
    "kernelspec": {
      "display_name": "Python 3",
      "language": "python",
      "name": "python3"
    },
    "language_info": {
      "codemirror_mode": {
        "name": "ipython",
        "version": 3
      },
      "file_extension": ".py",
      "mimetype": "text/x-python",
      "name": "python",
      "nbconvert_exporter": "python",
      "pygments_lexer": "ipython3",
      "version": "3.7.0"
    },
    "gpuClass": "standard"
  },
  "nbformat": 4,
  "nbformat_minor": 0
}